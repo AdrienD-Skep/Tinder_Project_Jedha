{
 "cells": [
  {
   "cell_type": "code",
   "execution_count": 1,
   "metadata": {},
   "outputs": [],
   "source": [
    "import pandas as pd\n",
    "import numpy as np\n",
    "import plotly.express as px\n",
    "import plotly.graph_objects as go\n",
    "from plotly.subplots import make_subplots\n",
    "import plotly.io as pio\n",
    "\n",
    "# setting Jedha color palette as default\n",
    "pio.templates[\"jedha\"] = go.layout.Template(\n",
    "    layout_colorway=[\"#4B9AC7\", \"#4BE8E0\", \"#9DD4F3\", \"#97FBF6\", \"#2A7FAF\", \"#23B1AB\", \"#0E3449\", \"#015955\"]\n",
    ")\n",
    "pio.templates.default = \"jedha\""
   ]
  },
  {
   "cell_type": "code",
   "execution_count": 2,
   "metadata": {},
   "outputs": [],
   "source": [
    "df = pd.read_csv('Speed+Dating+Data.csv', encoding='latin1')"
   ]
  },
  {
   "cell_type": "code",
   "execution_count": 3,
   "metadata": {},
   "outputs": [
    {
     "name": "stdout",
     "output_type": "stream",
     "text": [
      "<class 'pandas.core.frame.DataFrame'>\n",
      "RangeIndex: 8378 entries, 0 to 8377\n",
      "Columns: 195 entries, iid to amb5_3\n",
      "dtypes: float64(174), int64(13), object(8)\n",
      "memory usage: 12.5+ MB\n"
     ]
    }
   ],
   "source": [
    "df.info()"
   ]
  },
  {
   "cell_type": "code",
   "execution_count": 4,
   "metadata": {},
   "outputs": [
    {
     "data": {
      "text/html": [
       "<div>\n",
       "<style scoped>\n",
       "    .dataframe tbody tr th:only-of-type {\n",
       "        vertical-align: middle;\n",
       "    }\n",
       "\n",
       "    .dataframe tbody tr th {\n",
       "        vertical-align: top;\n",
       "    }\n",
       "\n",
       "    .dataframe thead th {\n",
       "        text-align: right;\n",
       "    }\n",
       "</style>\n",
       "<table border=\"1\" class=\"dataframe\">\n",
       "  <thead>\n",
       "    <tr style=\"text-align: right;\">\n",
       "      <th></th>\n",
       "      <th>iid</th>\n",
       "      <th>id</th>\n",
       "      <th>gender</th>\n",
       "      <th>idg</th>\n",
       "      <th>condtn</th>\n",
       "      <th>wave</th>\n",
       "      <th>round</th>\n",
       "      <th>position</th>\n",
       "      <th>positin1</th>\n",
       "      <th>order</th>\n",
       "      <th>...</th>\n",
       "      <th>attr3_3</th>\n",
       "      <th>sinc3_3</th>\n",
       "      <th>intel3_3</th>\n",
       "      <th>fun3_3</th>\n",
       "      <th>amb3_3</th>\n",
       "      <th>attr5_3</th>\n",
       "      <th>sinc5_3</th>\n",
       "      <th>intel5_3</th>\n",
       "      <th>fun5_3</th>\n",
       "      <th>amb5_3</th>\n",
       "    </tr>\n",
       "  </thead>\n",
       "  <tbody>\n",
       "    <tr>\n",
       "      <th>count</th>\n",
       "      <td>8378.000000</td>\n",
       "      <td>8377.000000</td>\n",
       "      <td>8378.000000</td>\n",
       "      <td>8378.000000</td>\n",
       "      <td>8378.000000</td>\n",
       "      <td>8378.000000</td>\n",
       "      <td>8378.000000</td>\n",
       "      <td>8378.000000</td>\n",
       "      <td>6532.000000</td>\n",
       "      <td>8378.000000</td>\n",
       "      <td>...</td>\n",
       "      <td>3974.000000</td>\n",
       "      <td>3974.000000</td>\n",
       "      <td>3974.000000</td>\n",
       "      <td>3974.000000</td>\n",
       "      <td>3974.000000</td>\n",
       "      <td>2016.000000</td>\n",
       "      <td>2016.000000</td>\n",
       "      <td>2016.000000</td>\n",
       "      <td>2016.000000</td>\n",
       "      <td>2016.000000</td>\n",
       "    </tr>\n",
       "    <tr>\n",
       "      <th>mean</th>\n",
       "      <td>283.675937</td>\n",
       "      <td>8.960248</td>\n",
       "      <td>0.500597</td>\n",
       "      <td>17.327166</td>\n",
       "      <td>1.828837</td>\n",
       "      <td>11.350919</td>\n",
       "      <td>16.872046</td>\n",
       "      <td>9.042731</td>\n",
       "      <td>9.295775</td>\n",
       "      <td>8.927668</td>\n",
       "      <td>...</td>\n",
       "      <td>7.240312</td>\n",
       "      <td>8.093357</td>\n",
       "      <td>8.388777</td>\n",
       "      <td>7.658782</td>\n",
       "      <td>7.391545</td>\n",
       "      <td>6.810020</td>\n",
       "      <td>7.615079</td>\n",
       "      <td>7.932540</td>\n",
       "      <td>7.155258</td>\n",
       "      <td>7.048611</td>\n",
       "    </tr>\n",
       "    <tr>\n",
       "      <th>std</th>\n",
       "      <td>158.583367</td>\n",
       "      <td>5.491329</td>\n",
       "      <td>0.500029</td>\n",
       "      <td>10.940735</td>\n",
       "      <td>0.376673</td>\n",
       "      <td>5.995903</td>\n",
       "      <td>4.358458</td>\n",
       "      <td>5.514939</td>\n",
       "      <td>5.650199</td>\n",
       "      <td>5.477009</td>\n",
       "      <td>...</td>\n",
       "      <td>1.576596</td>\n",
       "      <td>1.610309</td>\n",
       "      <td>1.459094</td>\n",
       "      <td>1.744670</td>\n",
       "      <td>1.961417</td>\n",
       "      <td>1.507341</td>\n",
       "      <td>1.504551</td>\n",
       "      <td>1.340868</td>\n",
       "      <td>1.672787</td>\n",
       "      <td>1.717988</td>\n",
       "    </tr>\n",
       "    <tr>\n",
       "      <th>min</th>\n",
       "      <td>1.000000</td>\n",
       "      <td>1.000000</td>\n",
       "      <td>0.000000</td>\n",
       "      <td>1.000000</td>\n",
       "      <td>1.000000</td>\n",
       "      <td>1.000000</td>\n",
       "      <td>5.000000</td>\n",
       "      <td>1.000000</td>\n",
       "      <td>1.000000</td>\n",
       "      <td>1.000000</td>\n",
       "      <td>...</td>\n",
       "      <td>2.000000</td>\n",
       "      <td>2.000000</td>\n",
       "      <td>3.000000</td>\n",
       "      <td>2.000000</td>\n",
       "      <td>1.000000</td>\n",
       "      <td>2.000000</td>\n",
       "      <td>2.000000</td>\n",
       "      <td>4.000000</td>\n",
       "      <td>1.000000</td>\n",
       "      <td>1.000000</td>\n",
       "    </tr>\n",
       "    <tr>\n",
       "      <th>25%</th>\n",
       "      <td>154.000000</td>\n",
       "      <td>4.000000</td>\n",
       "      <td>0.000000</td>\n",
       "      <td>8.000000</td>\n",
       "      <td>2.000000</td>\n",
       "      <td>7.000000</td>\n",
       "      <td>14.000000</td>\n",
       "      <td>4.000000</td>\n",
       "      <td>4.000000</td>\n",
       "      <td>4.000000</td>\n",
       "      <td>...</td>\n",
       "      <td>7.000000</td>\n",
       "      <td>7.000000</td>\n",
       "      <td>8.000000</td>\n",
       "      <td>7.000000</td>\n",
       "      <td>6.000000</td>\n",
       "      <td>6.000000</td>\n",
       "      <td>7.000000</td>\n",
       "      <td>7.000000</td>\n",
       "      <td>6.000000</td>\n",
       "      <td>6.000000</td>\n",
       "    </tr>\n",
       "    <tr>\n",
       "      <th>50%</th>\n",
       "      <td>281.000000</td>\n",
       "      <td>8.000000</td>\n",
       "      <td>1.000000</td>\n",
       "      <td>16.000000</td>\n",
       "      <td>2.000000</td>\n",
       "      <td>11.000000</td>\n",
       "      <td>18.000000</td>\n",
       "      <td>8.000000</td>\n",
       "      <td>9.000000</td>\n",
       "      <td>8.000000</td>\n",
       "      <td>...</td>\n",
       "      <td>7.000000</td>\n",
       "      <td>8.000000</td>\n",
       "      <td>8.000000</td>\n",
       "      <td>8.000000</td>\n",
       "      <td>8.000000</td>\n",
       "      <td>7.000000</td>\n",
       "      <td>8.000000</td>\n",
       "      <td>8.000000</td>\n",
       "      <td>7.000000</td>\n",
       "      <td>7.000000</td>\n",
       "    </tr>\n",
       "    <tr>\n",
       "      <th>75%</th>\n",
       "      <td>407.000000</td>\n",
       "      <td>13.000000</td>\n",
       "      <td>1.000000</td>\n",
       "      <td>26.000000</td>\n",
       "      <td>2.000000</td>\n",
       "      <td>15.000000</td>\n",
       "      <td>20.000000</td>\n",
       "      <td>13.000000</td>\n",
       "      <td>14.000000</td>\n",
       "      <td>13.000000</td>\n",
       "      <td>...</td>\n",
       "      <td>8.000000</td>\n",
       "      <td>9.000000</td>\n",
       "      <td>9.000000</td>\n",
       "      <td>9.000000</td>\n",
       "      <td>9.000000</td>\n",
       "      <td>8.000000</td>\n",
       "      <td>9.000000</td>\n",
       "      <td>9.000000</td>\n",
       "      <td>8.000000</td>\n",
       "      <td>8.000000</td>\n",
       "    </tr>\n",
       "    <tr>\n",
       "      <th>max</th>\n",
       "      <td>552.000000</td>\n",
       "      <td>22.000000</td>\n",
       "      <td>1.000000</td>\n",
       "      <td>44.000000</td>\n",
       "      <td>2.000000</td>\n",
       "      <td>21.000000</td>\n",
       "      <td>22.000000</td>\n",
       "      <td>22.000000</td>\n",
       "      <td>22.000000</td>\n",
       "      <td>22.000000</td>\n",
       "      <td>...</td>\n",
       "      <td>12.000000</td>\n",
       "      <td>12.000000</td>\n",
       "      <td>12.000000</td>\n",
       "      <td>12.000000</td>\n",
       "      <td>12.000000</td>\n",
       "      <td>10.000000</td>\n",
       "      <td>10.000000</td>\n",
       "      <td>10.000000</td>\n",
       "      <td>10.000000</td>\n",
       "      <td>10.000000</td>\n",
       "    </tr>\n",
       "  </tbody>\n",
       "</table>\n",
       "<p>8 rows × 187 columns</p>\n",
       "</div>"
      ],
      "text/plain": [
       "               iid           id       gender          idg       condtn  \\\n",
       "count  8378.000000  8377.000000  8378.000000  8378.000000  8378.000000   \n",
       "mean    283.675937     8.960248     0.500597    17.327166     1.828837   \n",
       "std     158.583367     5.491329     0.500029    10.940735     0.376673   \n",
       "min       1.000000     1.000000     0.000000     1.000000     1.000000   \n",
       "25%     154.000000     4.000000     0.000000     8.000000     2.000000   \n",
       "50%     281.000000     8.000000     1.000000    16.000000     2.000000   \n",
       "75%     407.000000    13.000000     1.000000    26.000000     2.000000   \n",
       "max     552.000000    22.000000     1.000000    44.000000     2.000000   \n",
       "\n",
       "              wave        round     position     positin1        order  ...  \\\n",
       "count  8378.000000  8378.000000  8378.000000  6532.000000  8378.000000  ...   \n",
       "mean     11.350919    16.872046     9.042731     9.295775     8.927668  ...   \n",
       "std       5.995903     4.358458     5.514939     5.650199     5.477009  ...   \n",
       "min       1.000000     5.000000     1.000000     1.000000     1.000000  ...   \n",
       "25%       7.000000    14.000000     4.000000     4.000000     4.000000  ...   \n",
       "50%      11.000000    18.000000     8.000000     9.000000     8.000000  ...   \n",
       "75%      15.000000    20.000000    13.000000    14.000000    13.000000  ...   \n",
       "max      21.000000    22.000000    22.000000    22.000000    22.000000  ...   \n",
       "\n",
       "           attr3_3      sinc3_3     intel3_3       fun3_3       amb3_3  \\\n",
       "count  3974.000000  3974.000000  3974.000000  3974.000000  3974.000000   \n",
       "mean      7.240312     8.093357     8.388777     7.658782     7.391545   \n",
       "std       1.576596     1.610309     1.459094     1.744670     1.961417   \n",
       "min       2.000000     2.000000     3.000000     2.000000     1.000000   \n",
       "25%       7.000000     7.000000     8.000000     7.000000     6.000000   \n",
       "50%       7.000000     8.000000     8.000000     8.000000     8.000000   \n",
       "75%       8.000000     9.000000     9.000000     9.000000     9.000000   \n",
       "max      12.000000    12.000000    12.000000    12.000000    12.000000   \n",
       "\n",
       "           attr5_3      sinc5_3     intel5_3       fun5_3       amb5_3  \n",
       "count  2016.000000  2016.000000  2016.000000  2016.000000  2016.000000  \n",
       "mean      6.810020     7.615079     7.932540     7.155258     7.048611  \n",
       "std       1.507341     1.504551     1.340868     1.672787     1.717988  \n",
       "min       2.000000     2.000000     4.000000     1.000000     1.000000  \n",
       "25%       6.000000     7.000000     7.000000     6.000000     6.000000  \n",
       "50%       7.000000     8.000000     8.000000     7.000000     7.000000  \n",
       "75%       8.000000     9.000000     9.000000     8.000000     8.000000  \n",
       "max      10.000000    10.000000    10.000000    10.000000    10.000000  \n",
       "\n",
       "[8 rows x 187 columns]"
      ]
     },
     "execution_count": 4,
     "metadata": {},
     "output_type": "execute_result"
    }
   ],
   "source": [
    "df.describe()"
   ]
  },
  {
   "cell_type": "code",
   "execution_count": 5,
   "metadata": {},
   "outputs": [
    {
     "data": {
      "text/plain": [
       "['iid',\n",
       " 'id',\n",
       " 'gender',\n",
       " 'idg',\n",
       " 'condtn',\n",
       " 'wave',\n",
       " 'round',\n",
       " 'position',\n",
       " 'positin1',\n",
       " 'order',\n",
       " 'partner',\n",
       " 'pid',\n",
       " 'match',\n",
       " 'int_corr',\n",
       " 'samerace',\n",
       " 'age_o',\n",
       " 'race_o',\n",
       " 'pf_o_att',\n",
       " 'pf_o_sin',\n",
       " 'pf_o_int',\n",
       " 'pf_o_fun',\n",
       " 'pf_o_amb',\n",
       " 'pf_o_sha',\n",
       " 'dec_o',\n",
       " 'attr_o',\n",
       " 'sinc_o',\n",
       " 'intel_o',\n",
       " 'fun_o',\n",
       " 'amb_o',\n",
       " 'shar_o',\n",
       " 'like_o',\n",
       " 'prob_o',\n",
       " 'met_o',\n",
       " 'age',\n",
       " 'field',\n",
       " 'field_cd',\n",
       " 'undergra',\n",
       " 'mn_sat',\n",
       " 'tuition',\n",
       " 'race',\n",
       " 'imprace',\n",
       " 'imprelig',\n",
       " 'from',\n",
       " 'zipcode',\n",
       " 'income',\n",
       " 'goal',\n",
       " 'date',\n",
       " 'go_out',\n",
       " 'career',\n",
       " 'career_c',\n",
       " 'sports',\n",
       " 'tvsports',\n",
       " 'exercise',\n",
       " 'dining',\n",
       " 'museums',\n",
       " 'art',\n",
       " 'hiking',\n",
       " 'gaming',\n",
       " 'clubbing',\n",
       " 'reading',\n",
       " 'tv',\n",
       " 'theater',\n",
       " 'movies',\n",
       " 'concerts',\n",
       " 'music',\n",
       " 'shopping',\n",
       " 'yoga',\n",
       " 'exphappy',\n",
       " 'expnum',\n",
       " 'attr1_1',\n",
       " 'sinc1_1',\n",
       " 'intel1_1',\n",
       " 'fun1_1',\n",
       " 'amb1_1',\n",
       " 'shar1_1',\n",
       " 'attr4_1',\n",
       " 'sinc4_1',\n",
       " 'intel4_1',\n",
       " 'fun4_1',\n",
       " 'amb4_1',\n",
       " 'shar4_1',\n",
       " 'attr2_1',\n",
       " 'sinc2_1',\n",
       " 'intel2_1',\n",
       " 'fun2_1',\n",
       " 'amb2_1',\n",
       " 'shar2_1',\n",
       " 'attr3_1',\n",
       " 'sinc3_1',\n",
       " 'fun3_1',\n",
       " 'intel3_1',\n",
       " 'amb3_1',\n",
       " 'attr5_1',\n",
       " 'sinc5_1',\n",
       " 'intel5_1',\n",
       " 'fun5_1',\n",
       " 'amb5_1',\n",
       " 'dec',\n",
       " 'attr',\n",
       " 'sinc',\n",
       " 'intel',\n",
       " 'fun',\n",
       " 'amb',\n",
       " 'shar',\n",
       " 'like',\n",
       " 'prob',\n",
       " 'met',\n",
       " 'match_es',\n",
       " 'attr1_s',\n",
       " 'sinc1_s',\n",
       " 'intel1_s',\n",
       " 'fun1_s',\n",
       " 'amb1_s',\n",
       " 'shar1_s',\n",
       " 'attr3_s',\n",
       " 'sinc3_s',\n",
       " 'intel3_s',\n",
       " 'fun3_s',\n",
       " 'amb3_s',\n",
       " 'satis_2',\n",
       " 'length',\n",
       " 'numdat_2',\n",
       " 'attr7_2',\n",
       " 'sinc7_2',\n",
       " 'intel7_2',\n",
       " 'fun7_2',\n",
       " 'amb7_2',\n",
       " 'shar7_2',\n",
       " 'attr1_2',\n",
       " 'sinc1_2',\n",
       " 'intel1_2',\n",
       " 'fun1_2',\n",
       " 'amb1_2',\n",
       " 'shar1_2',\n",
       " 'attr4_2',\n",
       " 'sinc4_2',\n",
       " 'intel4_2',\n",
       " 'fun4_2',\n",
       " 'amb4_2',\n",
       " 'shar4_2',\n",
       " 'attr2_2',\n",
       " 'sinc2_2',\n",
       " 'intel2_2',\n",
       " 'fun2_2',\n",
       " 'amb2_2',\n",
       " 'shar2_2',\n",
       " 'attr3_2',\n",
       " 'sinc3_2',\n",
       " 'intel3_2',\n",
       " 'fun3_2',\n",
       " 'amb3_2',\n",
       " 'attr5_2',\n",
       " 'sinc5_2',\n",
       " 'intel5_2',\n",
       " 'fun5_2',\n",
       " 'amb5_2',\n",
       " 'you_call',\n",
       " 'them_cal',\n",
       " 'date_3',\n",
       " 'numdat_3',\n",
       " 'num_in_3',\n",
       " 'attr1_3',\n",
       " 'sinc1_3',\n",
       " 'intel1_3',\n",
       " 'fun1_3',\n",
       " 'amb1_3',\n",
       " 'shar1_3',\n",
       " 'attr7_3',\n",
       " 'sinc7_3',\n",
       " 'intel7_3',\n",
       " 'fun7_3',\n",
       " 'amb7_3',\n",
       " 'shar7_3',\n",
       " 'attr4_3',\n",
       " 'sinc4_3',\n",
       " 'intel4_3',\n",
       " 'fun4_3',\n",
       " 'amb4_3',\n",
       " 'shar4_3',\n",
       " 'attr2_3',\n",
       " 'sinc2_3',\n",
       " 'intel2_3',\n",
       " 'fun2_3',\n",
       " 'amb2_3',\n",
       " 'shar2_3',\n",
       " 'attr3_3',\n",
       " 'sinc3_3',\n",
       " 'intel3_3',\n",
       " 'fun3_3',\n",
       " 'amb3_3',\n",
       " 'attr5_3',\n",
       " 'sinc5_3',\n",
       " 'intel5_3',\n",
       " 'fun5_3',\n",
       " 'amb5_3']"
      ]
     },
     "execution_count": 5,
     "metadata": {},
     "output_type": "execute_result"
    }
   ],
   "source": [
    "df.columns.tolist()"
   ]
  },
  {
   "cell_type": "code",
   "execution_count": 6,
   "metadata": {},
   "outputs": [],
   "source": [
    "# L'iid 118 est manquant, filtre les lignes où l'id du partenaire est NaN mais devrait être 118.\n",
    "df_processed = df[df[\"pid\"].notna()].copy() \n",
    "\n",
    "# Rendre le format de \"income\" utilisable\n",
    "df_processed[\"income\"] = df_processed[\"income\"].astype(str).apply(lambda x : x.replace(\",\",\"\")).astype(float)\n",
    "\n",
    "# Caster certaines colonnes en str afin d'éviter d'appliquer des traitements numériques sur des données qualitatives.\n",
    "categorical_column = [\"iid\", \"id\", \"idg\",\"wave\", \"position\", \"positin1\", \"partner\", \"pid\", \"race_o\", \"race\", \"length\", \"numdat_2\"]\n",
    "def categorical_to_str(column):\n",
    "    if column.name in categorical_column :\n",
    "        return column.astype(str)\n",
    "    else :\n",
    "        return column\n",
    "df_processed = df_processed.apply(categorical_to_str)\n",
    "\n",
    "fields = {\n",
    "    1: \"Droit\",\n",
    "    2: \"Mathématiques\",\n",
    "    3: \"Sciences sociales / Psychologie\",\n",
    "    4: \"Sciences médicales, pharmaceutiques et biotechnologie\",\n",
    "    5: \"Ingénierie\",\n",
    "    6: \"Anglais / Écriture créative / Journalisme\",\n",
    "    7: \"Histoire / Religion / Philosophie\",\n",
    "    8: \"Commerce / Économie / Finance\",\n",
    "    9: \"Éducation / Académie\",\n",
    "    10: \"Sciences biologiques / Chimie / Physique\",\n",
    "    11: \"Travail social\",\n",
    "    12: \"Premier cycle / Indécis\",\n",
    "    13: \"Sciences politiques / Affaires internationales\",\n",
    "    14: \"Cinéma\",\n",
    "    15: \"Beaux-arts / Administration des arts\",\n",
    "    16: \"Langues\",\n",
    "    17: \"Architecture\",\n",
    "    18: \"Autre\"\n",
    "}\n",
    "goals = {\n",
    "    1: \"Ça semblait être une soirée amusante\",\n",
    "    2: \"Pour rencontrer de nouvelles personnes\",\n",
    "    3: \"Pour avoir un rendez-vous\",\n",
    "    4: \"À la recherche d'une relation sérieuse\",\n",
    "    5: \"Pour dire que je l'ai fait\",\n",
    "    6: \"Autre\"\n",
    "}\n",
    "frequencies = {\n",
    "    1: \"Plusieurs fois par semaine\",\n",
    "    2: \"Deux fois par semaine\",\n",
    "    3: \"Une fois par semaine\",\n",
    "    4: \"Deux fois par mois\",\n",
    "    5: \"Une fois par mois\",\n",
    "    6: \"Plusieurs fois par an\",\n",
    "    7: \"Presque jamais\"\n",
    "}\n",
    "career = {\n",
    "    1: \"Avocat\",\n",
    "    2: \"Universitaire / Recherche\",\n",
    "    3: \"Psychologue\",\n",
    "    4: \"Médecin\",\n",
    "    5: \"Ingénieur\",\n",
    "    6: \"Arts créatifs / Divertissement\",\n",
    "    7: \"Banque/Conseil/Finance/Marketing/Affaires/PDG/Entrepreneur/Administration\",\n",
    "    8: \"Immobilier\",\n",
    "    9: \"Affaires internationales / humanitaires\",\n",
    "    10: \"Indécis\",\n",
    "    11: \"Travail social\",\n",
    "    12: \"Orthophonie\",\n",
    "    13: \"Politique\",\n",
    "    14: \"Sports professionnels / Athlétisme\",\n",
    "    15: \"Autre\",\n",
    "    16: \"Journalisme\",\n",
    "    17: \"Architecture\"\n",
    "}\n",
    "df_processed[\"field_cd\"] = df_processed[\"field_cd\"].apply(lambda x : x if pd.isna(x) else fields[x])\n",
    "df_processed[\"goal\"] = df_processed[\"goal\"].apply(lambda x : x if pd.isna(x) else goals[x])\n",
    "df_processed[\"date\"] = df_processed[\"date\"].apply(lambda x : x if pd.isna(x) else frequencies[x])\n",
    "df_processed[\"go_out\"] = df_processed[\"go_out\"].apply(lambda x : x if pd.isna(x) else frequencies[x])\n",
    "df_processed[\"career_c\"] = df_processed[\"career_c\"].apply(lambda x : x if pd.isna(x) else career[x])\n",
    "\n",
    "\n",
    "# age_o : age of partner\n",
    "df_processed[\"age_dif\"] = df_processed[\"age_o\"] - df_processed[\"age\"]\n",
    "\n",
    "# income : Median household income\n",
    "df_processed[\"income_o\"] = df_processed[\"pid\"].astype(float).apply(lambda x : df_processed[df_processed[\"iid\"].astype(float) == x][\"income\"].iloc[0])\n",
    "df_processed[\"income_dif\"] = df_processed[\"income_o\"] - df_processed[\"income\"]\n",
    "\n",
    "# Remplacer num_in_3 par numdat_3 dans les lignes présentant des incohérences. Le nombre de dates devrait toujours être supérieur ou égal au nombre matches avec lesquels l'utilisateur a eu au moins un rendez-vous\n",
    "df_processed.loc[df_processed['num_in_3'] < df_processed['numdat_3'], 'num_in_3'] = df_processed.loc[df_processed['num_in_3'] < df_processed['numdat_3'], 'numdat_3'] \n",
    "\n",
    "# Remplacer date_3 par 1 quand numdate_3 est superieur à 0. Si le nombre de dates est supérieur à 0, cela indique qu'il y a eu au moins un rendez-vous\n",
    "df_processed.loc[df_processed['numdat_3'] > 0, ['date_3']] = 1\n",
    "\n",
    "# Remplacez les 1 dans date_3 par des 0 lorsque numdat_3 est égal à 0. Si le nombre de dates est égal à 0, cela signifie qu'il n'y a pas eu de rendez-vous. Les zéros dans date_3 sont considérés comme une réponse négative, car il n'y a aucun 2.\n",
    "df_processed.loc[(df_processed['date_3'] == 1) & (df_processed['numdat_3'] == 0), 'date_3'] = 0\n",
    "\n",
    "# Remplacez les Nan dans numdat_3 et num_in_3 par des 0 lorsque date_3 est égal à 0. Les NaN sont considérés comme une absence de réponse due au fait que date_3 a reçu une réponse négative.\n",
    "df_processed.loc[(df_processed['date_3'] == 0), ['numdat_3', \"num_in_3\"]] = df_processed.loc[(df_processed['date_3'] == 0), ['numdat_3', \"num_in_3\"]].fillna(0)\n",
    "\n",
    "# Supprimer les lignes où wave est compris entre 6 et 9. La \"préference scale\" est décrite comme une échelle de 1 à 10, mais les valeurs sont en réalité comprises entre 0 et 100\n",
    "df_100p_wave = df_processed[~df_processed['wave'].astype(int).between(6, 9)]\n",
    "\n",
    "# regrouper par iid, pour éviter les biais liés au nombre variable de participants par vague.\"\n",
    "df_Grouped_By_iid = df_processed.groupby(\"iid\").agg(lambda x: x.mean() if pd.api.types.is_numeric_dtype(x) else x.iloc[0]).reset_index()\n",
    "df_Grouped_By_iid_sum = df_processed.groupby(\"iid\").agg(lambda x: x.sum() if pd.api.types.is_numeric_dtype(x) else x.iloc[0]).reset_index()\n",
    "\n",
    "df_Grouped_By_iid_100p_wave = df_100p_wave.groupby(\"iid\").agg(lambda x: x.mean() if pd.api.types.is_numeric_dtype(x) else x.iloc[0]).reset_index()"
   ]
  },
  {
   "cell_type": "code",
   "execution_count": 7,
   "metadata": {},
   "outputs": [
    {
     "data": {
      "application/vnd.plotly.v1+json": {
       "config": {
        "plotlyServerURL": "https://plot.ly"
       },
       "data": [
        {
         "alignmentgroup": "True",
         "hovertemplate": "variable=0<br>index=%{x}<br>value=%{y}<extra></extra>",
         "legendgroup": "0",
         "marker": {
          "color": "#4B9AC7",
          "pattern": {
           "shape": ""
          }
         },
         "name": "0",
         "offsetgroup": "0",
         "orientation": "v",
         "showlegend": true,
         "textposition": "auto",
         "type": "bar",
         "x": [
          "mn_sat",
          "tuition",
          "expnum",
          "attr1_s",
          "sinc1_s",
          "intel1_s",
          "fun1_s",
          "amb1_s",
          "shar1_s",
          "attr3_s",
          "sinc3_s",
          "intel3_s",
          "fun3_s",
          "amb3_s",
          "attr7_2",
          "sinc7_2",
          "intel7_2",
          "fun7_2",
          "amb7_2",
          "shar7_2",
          "you_call",
          "them_cal",
          "date_3",
          "numdat_3",
          "num_in_3",
          "attr1_3",
          "sinc1_3",
          "intel1_3",
          "fun1_3",
          "amb1_3",
          "shar1_3",
          "attr7_3",
          "sinc7_3",
          "intel7_3",
          "fun7_3",
          "amb7_3",
          "shar7_3",
          "attr4_3",
          "sinc4_3",
          "intel4_3",
          "fun4_3",
          "amb4_3",
          "shar4_3",
          "attr2_3",
          "sinc2_3",
          "intel2_3",
          "fun2_3",
          "amb2_3",
          "shar2_3",
          "attr3_3",
          "sinc3_3",
          "intel3_3",
          "fun3_3",
          "amb3_3",
          "attr5_3",
          "sinc5_3",
          "intel5_3",
          "fun5_3",
          "amb5_3",
          "income_dif"
         ],
         "xaxis": "x",
         "y": [
          5235,
          4785,
          6578,
          4272,
          4272,
          4272,
          4272,
          4272,
          4272,
          4368,
          4368,
          4368,
          4368,
          4368,
          6384,
          6413,
          6384,
          6384,
          6413,
          6394,
          4399,
          4399,
          4399,
          4691,
          5421,
          4399,
          4399,
          4399,
          4399,
          4399,
          4399,
          6352,
          6352,
          6352,
          6352,
          6352,
          6352,
          5409,
          5409,
          5409,
          5409,
          5409,
          5409,
          5409,
          5409,
          5409,
          5409,
          5409,
          6352,
          4399,
          4399,
          4399,
          4399,
          4399,
          6352,
          6352,
          6352,
          6352,
          6352,
          6190
         ],
         "yaxis": "y"
        }
       ],
       "layout": {
        "barmode": "relative",
        "legend": {
         "title": {
          "text": "variable"
         },
         "tracegroupgap": 0
        },
        "showlegend": false,
        "template": {
         "layout": {
          "colorway": [
           "#4B9AC7",
           "#4BE8E0",
           "#9DD4F3",
           "#97FBF6",
           "#2A7FAF",
           "#23B1AB",
           "#0E3449",
           "#015955"
          ]
         }
        },
        "title": {
         "text": "Colonnes présentant plus de 50% de valeurs manquantes"
        },
        "xaxis": {
         "anchor": "y",
         "domain": [
          0,
          1
         ],
         "title": {
          "text": "index"
         }
        },
        "yaxis": {
         "anchor": "x",
         "domain": [
          0,
          1
         ],
         "title": {
          "text": "value"
         }
        }
       }
      }
     },
     "metadata": {},
     "output_type": "display_data"
    }
   ],
   "source": [
    "missing_values = df_processed.isnull().sum()\n",
    "\n",
    "fig = px.bar(missing_values[missing_values > len(df_processed)*0.5], \n",
    "             title=\"Colonnes présentant plus de 50% de valeurs manquantes\")\n",
    "fig.update_layout(showlegend=False)\n",
    "fig.show()"
   ]
  },
  {
   "cell_type": "code",
   "execution_count": 8,
   "metadata": {},
   "outputs": [
    {
     "data": {
      "application/vnd.plotly.v1+json": {
       "config": {
        "plotlyServerURL": "https://plot.ly"
       },
       "data": [
        {
         "name": "Homme",
         "text": [
          "25",
          "15",
          "20",
          "19",
          "8",
          "10"
         ],
         "textposition": "auto",
         "type": "bar",
         "x": [
          "Attractivité",
          "Sincérité",
          "Intelligence",
          "divertissant",
          "Ambition",
          "Intérêts partagés"
         ],
         "y": [
          25,
          15,
          20,
          19,
          8.5,
          10
         ]
        },
        {
         "name": "Femme",
         "text": [
          "15",
          "20",
          "20",
          "18",
          "10",
          "10"
         ],
         "textposition": "auto",
         "type": "bar",
         "x": [
          "Attractivité",
          "Sincérité",
          "Intelligence",
          "divertissant",
          "Ambition",
          "Intérêts partagés"
         ],
         "y": [
          15,
          20,
          20,
          18,
          10,
          10
         ]
        }
       ],
       "layout": {
        "barmode": "group",
        "template": {
         "layout": {
          "colorway": [
           "#4B9AC7",
           "#4BE8E0",
           "#9DD4F3",
           "#97FBF6",
           "#2A7FAF",
           "#23B1AB",
           "#0E3449",
           "#015955"
          ]
         }
        },
        "title": {
         "text": "Comparaison des préférences des femmes et des hommes avant l’événement"
        },
        "xaxis": {
         "title": {
          "text": "Attributs"
         }
        },
        "yaxis": {
         "title": {
          "text": "Note médiane"
         }
        }
       }
      }
     },
     "metadata": {},
     "output_type": "display_data"
    }
   ],
   "source": [
    "# Utilisation du DataFrame groupé, car les notes sont les mêmes quel que soit le partenaire.\n",
    "# Utilisation du DataFrame 100p, car \"1_1\" et \"2_1\" sont notés sur 100.\n",
    "\n",
    "df_Grouped_M = df_Grouped_By_iid_100p_wave[df_Grouped_By_iid_100p_wave[\"gender\"] == 1] \n",
    "df_Grouped_F = df_Grouped_By_iid_100p_wave[df_Grouped_By_iid_100p_wave[\"gender\"] == 0]\n",
    "\n",
    "# 1_1 : We want to know what you look for in the opposite sex.\n",
    "# Attractive, Sincere, Intelligent, Fun, Ambitious, Shared, Interests\n",
    "attributes = [\"attr\",\"sinc\",\"intel\",\"fun\",\"amb\",\"shar\"]\n",
    "attribute_names = [\"Attractivité\", \"Sincérité\", \"Intelligence\", \"divertissant\", \"Ambition\", \"Intérêts partagés\"]\n",
    "y_values_M = []\n",
    "y_values_F = []\n",
    "for col_name in attributes :\n",
    "    y_values_M.append(df_Grouped_M[f\"{col_name}1_1\"].median()) # Utilisation de la médiane pour éviter les biais induits par les outliers.\n",
    "    y_values_F.append(df_Grouped_F[f\"{col_name}1_1\"].median()) \n",
    "\n",
    "\n",
    "\n",
    "fig = go.Figure()\n",
    "\n",
    "fig.add_trace(go.Bar(\n",
    "    x=attribute_names,\n",
    "    y=y_values_M,\n",
    "    text=[str(round(num)) for num in y_values_M],\n",
    "    textposition='auto',\n",
    "    name='Homme'\n",
    "))\n",
    "\n",
    "fig.add_trace(go.Bar(\n",
    "    x=attribute_names,\n",
    "    y=y_values_F,\n",
    "    text=[str(round(num)) for num in y_values_F],\n",
    "    textposition='auto',\n",
    "    name='Femme'\n",
    "))\n",
    "\n",
    "fig.update_layout(\n",
    "    title='Comparaison des préférences des femmes et des hommes avant l’événement',\n",
    "    xaxis_title='Attributs',\n",
    "    yaxis_title='Note médiane',\n",
    "    barmode='group'\n",
    ")\n",
    "\n",
    "fig.show()"
   ]
  },
  {
   "cell_type": "markdown",
   "metadata": {},
   "source": [
    "Les attributs les moins recherchés par les hommes sont l'ambition et les intérêts partagés, et il en va de même chez les femmes. \n",
    "\n",
    "L'attractivité semble être la priorité absolue pour les hommes, tandis que l'intelligence et la sincérité constituent les qualités les plus recherchées chez les femmes."
   ]
  },
  {
   "cell_type": "code",
   "execution_count": 9,
   "metadata": {},
   "outputs": [
    {
     "data": {
      "application/vnd.plotly.v1+json": {
       "config": {
        "plotlyServerURL": "https://plot.ly"
       },
       "data": [
        {
         "name": "Préférence masculine supposée par les femmes",
         "text": [
          "35",
          "10",
          "10",
          "20",
          "10",
          "10"
         ],
         "textposition": "auto",
         "type": "bar",
         "x": [
          "Attractivité",
          "Sincérité",
          "Intelligence",
          "divertissant",
          "Ambition",
          "Intérêts partagés"
         ],
         "y": [
          35,
          10,
          10,
          20,
          10,
          10
         ]
        },
        {
         "name": "Préférence masculine",
         "text": [
          "25",
          "15",
          "20",
          "19",
          "8",
          "10"
         ],
         "textposition": "auto",
         "type": "bar",
         "x": [
          "Attractivité",
          "Sincérité",
          "Intelligence",
          "divertissant",
          "Ambition",
          "Intérêts partagés"
         ],
         "y": [
          25,
          15,
          20,
          19,
          8.5,
          10
         ]
        },
        {
         "name": "Préférence féminine supposée par les hommes",
         "text": [
          "25",
          "15",
          "15",
          "20",
          "15",
          "10"
         ],
         "textposition": "auto",
         "type": "bar",
         "x": [
          "Attractivité",
          "Sincérité",
          "Intelligence",
          "divertissant",
          "Ambition",
          "Intérêts partagés"
         ],
         "y": [
          25,
          15,
          15,
          20,
          15,
          10
         ]
        },
        {
         "name": "Préférence féminine",
         "text": [
          "15",
          "20",
          "20",
          "18",
          "10",
          "10"
         ],
         "textposition": "auto",
         "type": "bar",
         "x": [
          "Attractivité",
          "Sincérité",
          "Intelligence",
          "divertissant",
          "Ambition",
          "Intérêts partagés"
         ],
         "y": [
          15,
          20,
          20,
          18,
          10,
          10
         ]
        }
       ],
       "layout": {
        "barmode": "group",
        "template": {
         "layout": {
          "colorway": [
           "#4B9AC7",
           "#4BE8E0",
           "#9DD4F3",
           "#97FBF6",
           "#2A7FAF",
           "#23B1AB",
           "#0E3449",
           "#015955"
          ]
         }
        },
        "title": {
         "text": "Comparaison des préférences supposées du sexe opposé"
        },
        "xaxis": {
         "title": {
          "text": "Attributs"
         }
        },
        "yaxis": {
         "title": {
          "text": "Note médiane"
         }
        }
       }
      }
     },
     "metadata": {},
     "output_type": "display_data"
    }
   ],
   "source": [
    "# 2_1 : What do you think the opposite sex looks for in a date?\n",
    "\n",
    "y_values_M_2 = []\n",
    "y_values_F_2 = []\n",
    "for col_name in attributes :\n",
    "    y_values_M_2.append(df_Grouped_M[f\"{col_name}2_1\"].median()) \n",
    "    y_values_F_2.append(df_Grouped_F[f\"{col_name}2_1\"].median()) \n",
    "\n",
    "\n",
    "fig = go.Figure()\n",
    "\n",
    "\n",
    "fig.add_trace(go.Bar(\n",
    "    x=attribute_names,\n",
    "    y=y_values_F_2,\n",
    "    text=[str(round(num)) for num in y_values_F_2],\n",
    "    textposition='auto',\n",
    "    name='Préférence masculine supposée par les femmes'\n",
    "))\n",
    "\n",
    "fig.add_trace(go.Bar(\n",
    "    x=attribute_names,\n",
    "    y=y_values_M,\n",
    "    text=[str(round(num)) for num in y_values_M],\n",
    "    textposition='auto',\n",
    "    name='Préférence masculine'\n",
    "))\n",
    "\n",
    "fig.add_trace(go.Bar(\n",
    "    x=attribute_names,\n",
    "    y=y_values_M_2,\n",
    "    text=[str(round(num)) for num in y_values_M_2],\n",
    "    textposition='auto',\n",
    "    name='Préférence féminine supposée par les hommes'\n",
    "))\n",
    "fig.add_trace(go.Bar(\n",
    "    x=attribute_names,\n",
    "    y=y_values_F,\n",
    "    text=[str(round(num)) for num in y_values_F],\n",
    "    textposition='auto',\n",
    "    name='Préférence féminine'\n",
    "))\n",
    "\n",
    "\n",
    "fig.update_layout(\n",
    "    title=\"Comparaison des préférences supposées du sexe opposé\",\n",
    "    xaxis_title=\"Attributs\",\n",
    "    yaxis_title=\"Note médiane\",\n",
    "    barmode=\"group\"\n",
    ")\n",
    "\n",
    "fig.show()"
   ]
  },
  {
   "cell_type": "markdown",
   "metadata": {},
   "source": [
    "Lorsqu'on compare les préférences des hommes et des femmes avec la manière dont ils pensent que le sexe opposé valorise ces traits, il apparaît clairement que les deux genres ont tendance à surestimer l'importance de l'attractivité. À l'inverse, ils sous-estiment l'importance de la sincérité et de l'intelligence."
   ]
  },
  {
   "cell_type": "code",
   "execution_count": 10,
   "metadata": {},
   "outputs": [
    {
     "data": {
      "application/vnd.plotly.v1+json": {
       "config": {
        "plotlyServerURL": "https://plot.ly"
       },
       "data": [
        {
         "mode": "lines+markers",
         "name": "Attractivité",
         "type": "scatter",
         "x": [
          0,
          1,
          2,
          3,
          4,
          5,
          6,
          7,
          8,
          9,
          10
         ],
         "y": [
          0,
          10,
          5.58659217877095,
          8.294930875576037,
          13.129102844638949,
          22.003034901365705,
          30.798479087452474,
          51.453855878634634,
          64.91228070175438,
          74.88789237668162,
          86.60714285714286
         ]
        },
        {
         "mode": "lines+markers",
         "name": "Sincérité",
         "type": "scatter",
         "x": [
          0,
          1,
          2,
          3,
          4,
          5,
          6,
          7,
          8,
          9,
          10
         ],
         "y": [
          25,
          6.896551724137931,
          10.344827586206897,
          20,
          15.853658536585366,
          23.204419889502763,
          27.669902912621357,
          39.414414414414416,
          43.402061855670105,
          49.69574036511156,
          51.85185185185185
         ]
        },
        {
         "mode": "lines+markers",
         "name": "Intelligence",
         "type": "scatter",
         "x": [
          0,
          1,
          2,
          3,
          4,
          5,
          6,
          7,
          8,
          9,
          10
         ],
         "y": [
          0,
          0,
          0,
          10.526315789473683,
          8.045977011494253,
          15.884476534296029,
          26.37795275590551,
          36.36363636363637,
          42.04946996466431,
          48.946515397082656,
          51.578947368421055
         ]
        },
        {
         "mode": "lines+markers",
         "name": "divertissant",
         "type": "scatter",
         "x": [
          0,
          1,
          2,
          3,
          4,
          5,
          6,
          7,
          8,
          9,
          10
         ],
         "y": [
          0,
          3.896103896103896,
          4.054054054054054,
          6.790123456790123,
          8.6687306501548,
          22.262118491921004,
          30.87248322147651,
          46.18272841051314,
          56.56565656565656,
          68.02721088435374,
          75.25773195876289
         ]
        },
        {
         "mode": "lines+markers",
         "name": "Ambition",
         "type": "scatter",
         "x": [
          0,
          1,
          2,
          3,
          4,
          5,
          6,
          7,
          8,
          9,
          10
         ],
         "y": [
          25,
          0,
          18.333333333333332,
          16.216216216216218,
          17.61006289308176,
          28.47682119205298,
          31.074380165289256,
          42.16725559481743,
          40.19024970273484,
          46.808510638297875,
          47.292418772563174
         ]
        },
        {
         "mode": "lines+markers",
         "name": "Intérêts partagés",
         "type": "scatter",
         "x": [
          0,
          1,
          2,
          3,
          4,
          5,
          6,
          7,
          8,
          9,
          10
         ],
         "y": [
          2.857142857142857,
          4.6875,
          11.627906976744185,
          11.262798634812286,
          20,
          33.63636363636363,
          38.68378812199037,
          55.130434782608695,
          63.730569948186535,
          73.29192546583852,
          79.06976744186046
         ]
        },
        {
         "mode": "lines+markers",
         "name": "Note globale",
         "type": "scatter",
         "x": [
          0,
          1,
          2,
          3,
          4,
          5,
          6,
          7,
          8,
          9,
          10
         ],
         "y": [
          0,
          1.2658227848101267,
          3.9215686274509802,
          3.827751196172249,
          9.792284866468842,
          16.28614916286149,
          31.116389548693586,
          52.41301907968574,
          69.3679092382496,
          79.23497267759562,
          81.08108108108108
         ]
        }
       ],
       "layout": {
        "template": {
         "data": {
          "bar": [
           {
            "error_x": {
             "color": "#2a3f5f"
            },
            "error_y": {
             "color": "#2a3f5f"
            },
            "marker": {
             "line": {
              "color": "#E5ECF6",
              "width": 0.5
             },
             "pattern": {
              "fillmode": "overlay",
              "size": 10,
              "solidity": 0.2
             }
            },
            "type": "bar"
           }
          ],
          "barpolar": [
           {
            "marker": {
             "line": {
              "color": "#E5ECF6",
              "width": 0.5
             },
             "pattern": {
              "fillmode": "overlay",
              "size": 10,
              "solidity": 0.2
             }
            },
            "type": "barpolar"
           }
          ],
          "carpet": [
           {
            "aaxis": {
             "endlinecolor": "#2a3f5f",
             "gridcolor": "white",
             "linecolor": "white",
             "minorgridcolor": "white",
             "startlinecolor": "#2a3f5f"
            },
            "baxis": {
             "endlinecolor": "#2a3f5f",
             "gridcolor": "white",
             "linecolor": "white",
             "minorgridcolor": "white",
             "startlinecolor": "#2a3f5f"
            },
            "type": "carpet"
           }
          ],
          "choropleth": [
           {
            "colorbar": {
             "outlinewidth": 0,
             "ticks": ""
            },
            "type": "choropleth"
           }
          ],
          "contour": [
           {
            "colorbar": {
             "outlinewidth": 0,
             "ticks": ""
            },
            "colorscale": [
             [
              0,
              "#0d0887"
             ],
             [
              0.1111111111111111,
              "#46039f"
             ],
             [
              0.2222222222222222,
              "#7201a8"
             ],
             [
              0.3333333333333333,
              "#9c179e"
             ],
             [
              0.4444444444444444,
              "#bd3786"
             ],
             [
              0.5555555555555556,
              "#d8576b"
             ],
             [
              0.6666666666666666,
              "#ed7953"
             ],
             [
              0.7777777777777778,
              "#fb9f3a"
             ],
             [
              0.8888888888888888,
              "#fdca26"
             ],
             [
              1,
              "#f0f921"
             ]
            ],
            "type": "contour"
           }
          ],
          "contourcarpet": [
           {
            "colorbar": {
             "outlinewidth": 0,
             "ticks": ""
            },
            "type": "contourcarpet"
           }
          ],
          "heatmap": [
           {
            "colorbar": {
             "outlinewidth": 0,
             "ticks": ""
            },
            "colorscale": [
             [
              0,
              "#0d0887"
             ],
             [
              0.1111111111111111,
              "#46039f"
             ],
             [
              0.2222222222222222,
              "#7201a8"
             ],
             [
              0.3333333333333333,
              "#9c179e"
             ],
             [
              0.4444444444444444,
              "#bd3786"
             ],
             [
              0.5555555555555556,
              "#d8576b"
             ],
             [
              0.6666666666666666,
              "#ed7953"
             ],
             [
              0.7777777777777778,
              "#fb9f3a"
             ],
             [
              0.8888888888888888,
              "#fdca26"
             ],
             [
              1,
              "#f0f921"
             ]
            ],
            "type": "heatmap"
           }
          ],
          "heatmapgl": [
           {
            "colorbar": {
             "outlinewidth": 0,
             "ticks": ""
            },
            "colorscale": [
             [
              0,
              "#0d0887"
             ],
             [
              0.1111111111111111,
              "#46039f"
             ],
             [
              0.2222222222222222,
              "#7201a8"
             ],
             [
              0.3333333333333333,
              "#9c179e"
             ],
             [
              0.4444444444444444,
              "#bd3786"
             ],
             [
              0.5555555555555556,
              "#d8576b"
             ],
             [
              0.6666666666666666,
              "#ed7953"
             ],
             [
              0.7777777777777778,
              "#fb9f3a"
             ],
             [
              0.8888888888888888,
              "#fdca26"
             ],
             [
              1,
              "#f0f921"
             ]
            ],
            "type": "heatmapgl"
           }
          ],
          "histogram": [
           {
            "marker": {
             "pattern": {
              "fillmode": "overlay",
              "size": 10,
              "solidity": 0.2
             }
            },
            "type": "histogram"
           }
          ],
          "histogram2d": [
           {
            "colorbar": {
             "outlinewidth": 0,
             "ticks": ""
            },
            "colorscale": [
             [
              0,
              "#0d0887"
             ],
             [
              0.1111111111111111,
              "#46039f"
             ],
             [
              0.2222222222222222,
              "#7201a8"
             ],
             [
              0.3333333333333333,
              "#9c179e"
             ],
             [
              0.4444444444444444,
              "#bd3786"
             ],
             [
              0.5555555555555556,
              "#d8576b"
             ],
             [
              0.6666666666666666,
              "#ed7953"
             ],
             [
              0.7777777777777778,
              "#fb9f3a"
             ],
             [
              0.8888888888888888,
              "#fdca26"
             ],
             [
              1,
              "#f0f921"
             ]
            ],
            "type": "histogram2d"
           }
          ],
          "histogram2dcontour": [
           {
            "colorbar": {
             "outlinewidth": 0,
             "ticks": ""
            },
            "colorscale": [
             [
              0,
              "#0d0887"
             ],
             [
              0.1111111111111111,
              "#46039f"
             ],
             [
              0.2222222222222222,
              "#7201a8"
             ],
             [
              0.3333333333333333,
              "#9c179e"
             ],
             [
              0.4444444444444444,
              "#bd3786"
             ],
             [
              0.5555555555555556,
              "#d8576b"
             ],
             [
              0.6666666666666666,
              "#ed7953"
             ],
             [
              0.7777777777777778,
              "#fb9f3a"
             ],
             [
              0.8888888888888888,
              "#fdca26"
             ],
             [
              1,
              "#f0f921"
             ]
            ],
            "type": "histogram2dcontour"
           }
          ],
          "mesh3d": [
           {
            "colorbar": {
             "outlinewidth": 0,
             "ticks": ""
            },
            "type": "mesh3d"
           }
          ],
          "parcoords": [
           {
            "line": {
             "colorbar": {
              "outlinewidth": 0,
              "ticks": ""
             }
            },
            "type": "parcoords"
           }
          ],
          "pie": [
           {
            "automargin": true,
            "type": "pie"
           }
          ],
          "scatter": [
           {
            "fillpattern": {
             "fillmode": "overlay",
             "size": 10,
             "solidity": 0.2
            },
            "type": "scatter"
           }
          ],
          "scatter3d": [
           {
            "line": {
             "colorbar": {
              "outlinewidth": 0,
              "ticks": ""
             }
            },
            "marker": {
             "colorbar": {
              "outlinewidth": 0,
              "ticks": ""
             }
            },
            "type": "scatter3d"
           }
          ],
          "scattercarpet": [
           {
            "marker": {
             "colorbar": {
              "outlinewidth": 0,
              "ticks": ""
             }
            },
            "type": "scattercarpet"
           }
          ],
          "scattergeo": [
           {
            "marker": {
             "colorbar": {
              "outlinewidth": 0,
              "ticks": ""
             }
            },
            "type": "scattergeo"
           }
          ],
          "scattergl": [
           {
            "marker": {
             "colorbar": {
              "outlinewidth": 0,
              "ticks": ""
             }
            },
            "type": "scattergl"
           }
          ],
          "scattermapbox": [
           {
            "marker": {
             "colorbar": {
              "outlinewidth": 0,
              "ticks": ""
             }
            },
            "type": "scattermapbox"
           }
          ],
          "scatterpolar": [
           {
            "marker": {
             "colorbar": {
              "outlinewidth": 0,
              "ticks": ""
             }
            },
            "type": "scatterpolar"
           }
          ],
          "scatterpolargl": [
           {
            "marker": {
             "colorbar": {
              "outlinewidth": 0,
              "ticks": ""
             }
            },
            "type": "scatterpolargl"
           }
          ],
          "scatterternary": [
           {
            "marker": {
             "colorbar": {
              "outlinewidth": 0,
              "ticks": ""
             }
            },
            "type": "scatterternary"
           }
          ],
          "surface": [
           {
            "colorbar": {
             "outlinewidth": 0,
             "ticks": ""
            },
            "colorscale": [
             [
              0,
              "#0d0887"
             ],
             [
              0.1111111111111111,
              "#46039f"
             ],
             [
              0.2222222222222222,
              "#7201a8"
             ],
             [
              0.3333333333333333,
              "#9c179e"
             ],
             [
              0.4444444444444444,
              "#bd3786"
             ],
             [
              0.5555555555555556,
              "#d8576b"
             ],
             [
              0.6666666666666666,
              "#ed7953"
             ],
             [
              0.7777777777777778,
              "#fb9f3a"
             ],
             [
              0.8888888888888888,
              "#fdca26"
             ],
             [
              1,
              "#f0f921"
             ]
            ],
            "type": "surface"
           }
          ],
          "table": [
           {
            "cells": {
             "fill": {
              "color": "#EBF0F8"
             },
             "line": {
              "color": "white"
             }
            },
            "header": {
             "fill": {
              "color": "#C8D4E3"
             },
             "line": {
              "color": "white"
             }
            },
            "type": "table"
           }
          ]
         },
         "layout": {
          "annotationdefaults": {
           "arrowcolor": "#2a3f5f",
           "arrowhead": 0,
           "arrowwidth": 1
          },
          "autotypenumbers": "strict",
          "coloraxis": {
           "colorbar": {
            "outlinewidth": 0,
            "ticks": ""
           }
          },
          "colorscale": {
           "diverging": [
            [
             0,
             "#8e0152"
            ],
            [
             0.1,
             "#c51b7d"
            ],
            [
             0.2,
             "#de77ae"
            ],
            [
             0.3,
             "#f1b6da"
            ],
            [
             0.4,
             "#fde0ef"
            ],
            [
             0.5,
             "#f7f7f7"
            ],
            [
             0.6,
             "#e6f5d0"
            ],
            [
             0.7,
             "#b8e186"
            ],
            [
             0.8,
             "#7fbc41"
            ],
            [
             0.9,
             "#4d9221"
            ],
            [
             1,
             "#276419"
            ]
           ],
           "sequential": [
            [
             0,
             "#0d0887"
            ],
            [
             0.1111111111111111,
             "#46039f"
            ],
            [
             0.2222222222222222,
             "#7201a8"
            ],
            [
             0.3333333333333333,
             "#9c179e"
            ],
            [
             0.4444444444444444,
             "#bd3786"
            ],
            [
             0.5555555555555556,
             "#d8576b"
            ],
            [
             0.6666666666666666,
             "#ed7953"
            ],
            [
             0.7777777777777778,
             "#fb9f3a"
            ],
            [
             0.8888888888888888,
             "#fdca26"
            ],
            [
             1,
             "#f0f921"
            ]
           ],
           "sequentialminus": [
            [
             0,
             "#0d0887"
            ],
            [
             0.1111111111111111,
             "#46039f"
            ],
            [
             0.2222222222222222,
             "#7201a8"
            ],
            [
             0.3333333333333333,
             "#9c179e"
            ],
            [
             0.4444444444444444,
             "#bd3786"
            ],
            [
             0.5555555555555556,
             "#d8576b"
            ],
            [
             0.6666666666666666,
             "#ed7953"
            ],
            [
             0.7777777777777778,
             "#fb9f3a"
            ],
            [
             0.8888888888888888,
             "#fdca26"
            ],
            [
             1,
             "#f0f921"
            ]
           ]
          },
          "colorway": [
           "#636efa",
           "#EF553B",
           "#00cc96",
           "#ab63fa",
           "#FFA15A",
           "#19d3f3",
           "#FF6692",
           "#B6E880",
           "#FF97FF",
           "#FECB52"
          ],
          "font": {
           "color": "#2a3f5f"
          },
          "geo": {
           "bgcolor": "white",
           "lakecolor": "white",
           "landcolor": "#E5ECF6",
           "showlakes": true,
           "showland": true,
           "subunitcolor": "white"
          },
          "hoverlabel": {
           "align": "left"
          },
          "hovermode": "closest",
          "mapbox": {
           "style": "light"
          },
          "paper_bgcolor": "white",
          "plot_bgcolor": "#E5ECF6",
          "polar": {
           "angularaxis": {
            "gridcolor": "white",
            "linecolor": "white",
            "ticks": ""
           },
           "bgcolor": "#E5ECF6",
           "radialaxis": {
            "gridcolor": "white",
            "linecolor": "white",
            "ticks": ""
           }
          },
          "scene": {
           "xaxis": {
            "backgroundcolor": "#E5ECF6",
            "gridcolor": "white",
            "gridwidth": 2,
            "linecolor": "white",
            "showbackground": true,
            "ticks": "",
            "zerolinecolor": "white"
           },
           "yaxis": {
            "backgroundcolor": "#E5ECF6",
            "gridcolor": "white",
            "gridwidth": 2,
            "linecolor": "white",
            "showbackground": true,
            "ticks": "",
            "zerolinecolor": "white"
           },
           "zaxis": {
            "backgroundcolor": "#E5ECF6",
            "gridcolor": "white",
            "gridwidth": 2,
            "linecolor": "white",
            "showbackground": true,
            "ticks": "",
            "zerolinecolor": "white"
           }
          },
          "shapedefaults": {
           "line": {
            "color": "#2a3f5f"
           }
          },
          "ternary": {
           "aaxis": {
            "gridcolor": "white",
            "linecolor": "white",
            "ticks": ""
           },
           "baxis": {
            "gridcolor": "white",
            "linecolor": "white",
            "ticks": ""
           },
           "bgcolor": "#E5ECF6",
           "caxis": {
            "gridcolor": "white",
            "linecolor": "white",
            "ticks": ""
           }
          },
          "title": {
           "x": 0.05
          },
          "xaxis": {
           "automargin": true,
           "gridcolor": "white",
           "linecolor": "white",
           "ticks": "",
           "title": {
            "standoff": 15
           },
           "zerolinecolor": "white",
           "zerolinewidth": 2
          },
          "yaxis": {
           "automargin": true,
           "gridcolor": "white",
           "linecolor": "white",
           "ticks": "",
           "title": {
            "standoff": 15
           },
           "zerolinecolor": "white",
           "zerolinewidth": 2
          }
         }
        },
        "title": {
         "text": "Pourcentage de décisions positives en fonction des notes données (femmes)"
        },
        "xaxis": {
         "title": {
          "text": "Note"
         }
        },
        "yaxis": {
         "title": {
          "text": "Pourcentage de décisions positives (%)"
         }
        }
       }
      }
     },
     "metadata": {},
     "output_type": "display_data"
    },
    {
     "data": {
      "application/vnd.plotly.v1+json": {
       "config": {
        "plotlyServerURL": "https://plot.ly"
       },
       "data": [
        {
         "mode": "lines+markers",
         "name": "Attractivité",
         "type": "scatter",
         "x": [
          0,
          1,
          2,
          3,
          4,
          5,
          6,
          7,
          8,
          9,
          10
         ],
         "y": [
          0,
          0,
          6.153846153846154,
          2.312138728323699,
          6.506849315068493,
          22.628951747088184,
          39.06071019473082,
          59.811985898942424,
          78.3132530120482,
          83.2807570977918,
          83.87096774193549
         ]
        },
        {
         "mode": "lines+markers",
         "name": "Sincérité",
         "type": "scatter",
         "x": [
          0,
          1,
          2,
          3,
          4,
          5,
          6,
          7,
          8,
          9,
          10
         ],
         "y": [
          20,
          22.22222222222222,
          17.647058823529413,
          18.181818181818183,
          20,
          35.60830860534125,
          37.42138364779874,
          51.29482071713147,
          53.61781076066791,
          60.09174311926605,
          58.14606741573034
         ]
        },
        {
         "mode": "lines+markers",
         "name": "Intelligence",
         "type": "scatter",
         "x": [
          0,
          1,
          2,
          3,
          4,
          5,
          6,
          7,
          8,
          9,
          10
         ],
         "y": [
          0,
          0,
          0,
          19.35483870967742,
          22.972972972972975,
          29.34472934472934,
          35.339506172839506,
          48.59022556390977,
          58.302238805970156,
          59.34291581108829,
          58.78378378378378
         ]
        },
        {
         "mode": "lines+markers",
         "name": "divertissant",
         "type": "scatter",
         "x": [
          0,
          1,
          2,
          3,
          4,
          5,
          6,
          7,
          8,
          9,
          10
         ],
         "y": [
          20,
          0,
          5.555555555555555,
          8.403361344537815,
          14.539007092198581,
          28.166666666666668,
          38.45177664974619,
          59.557109557109555,
          69.3315858453473,
          76.1437908496732,
          70.10309278350515
         ]
        },
        {
         "mode": "lines+markers",
         "name": "Ambition",
         "type": "scatter",
         "x": [
          0,
          1,
          2,
          3,
          4,
          5,
          6,
          7,
          8,
          9,
          10
         ],
         "y": [
          0,
          0,
          19.51219512195122,
          22.448979591836736,
          24.752475247524753,
          36.67180277349769,
          45.310596833130326,
          55.5421686746988,
          59.73053892215569,
          59.11949685534591,
          58.76288659793815
         ]
        },
        {
         "mode": "lines+markers",
         "name": "Intérêts partagés",
         "type": "scatter",
         "x": [
          0,
          1,
          2,
          3,
          4,
          5,
          6,
          7,
          8,
          9,
          10
         ],
         "y": [
          41.66666666666667,
          8.181818181818182,
          15.300546448087433,
          22.372881355932204,
          26.47754137115839,
          43.765586034912715,
          55.980861244019145,
          67.59581881533101,
          74.293059125964,
          73.71794871794873,
          78.37837837837837
         ]
        },
        {
         "mode": "lines+markers",
         "name": "Note globale",
         "type": "scatter",
         "x": [
          0,
          1,
          2,
          3,
          4,
          5,
          6,
          7,
          8,
          9,
          10
         ],
         "y": [
          0,
          3.225806451612903,
          1.4285714285714286,
          2.7027027027027026,
          6.129032258064516,
          18.456883509833585,
          44.25675675675676,
          65.18438177874187,
          80.44776119402985,
          87.77292576419214,
          88.39285714285714
         ]
        }
       ],
       "layout": {
        "template": {
         "data": {
          "bar": [
           {
            "error_x": {
             "color": "#2a3f5f"
            },
            "error_y": {
             "color": "#2a3f5f"
            },
            "marker": {
             "line": {
              "color": "#E5ECF6",
              "width": 0.5
             },
             "pattern": {
              "fillmode": "overlay",
              "size": 10,
              "solidity": 0.2
             }
            },
            "type": "bar"
           }
          ],
          "barpolar": [
           {
            "marker": {
             "line": {
              "color": "#E5ECF6",
              "width": 0.5
             },
             "pattern": {
              "fillmode": "overlay",
              "size": 10,
              "solidity": 0.2
             }
            },
            "type": "barpolar"
           }
          ],
          "carpet": [
           {
            "aaxis": {
             "endlinecolor": "#2a3f5f",
             "gridcolor": "white",
             "linecolor": "white",
             "minorgridcolor": "white",
             "startlinecolor": "#2a3f5f"
            },
            "baxis": {
             "endlinecolor": "#2a3f5f",
             "gridcolor": "white",
             "linecolor": "white",
             "minorgridcolor": "white",
             "startlinecolor": "#2a3f5f"
            },
            "type": "carpet"
           }
          ],
          "choropleth": [
           {
            "colorbar": {
             "outlinewidth": 0,
             "ticks": ""
            },
            "type": "choropleth"
           }
          ],
          "contour": [
           {
            "colorbar": {
             "outlinewidth": 0,
             "ticks": ""
            },
            "colorscale": [
             [
              0,
              "#0d0887"
             ],
             [
              0.1111111111111111,
              "#46039f"
             ],
             [
              0.2222222222222222,
              "#7201a8"
             ],
             [
              0.3333333333333333,
              "#9c179e"
             ],
             [
              0.4444444444444444,
              "#bd3786"
             ],
             [
              0.5555555555555556,
              "#d8576b"
             ],
             [
              0.6666666666666666,
              "#ed7953"
             ],
             [
              0.7777777777777778,
              "#fb9f3a"
             ],
             [
              0.8888888888888888,
              "#fdca26"
             ],
             [
              1,
              "#f0f921"
             ]
            ],
            "type": "contour"
           }
          ],
          "contourcarpet": [
           {
            "colorbar": {
             "outlinewidth": 0,
             "ticks": ""
            },
            "type": "contourcarpet"
           }
          ],
          "heatmap": [
           {
            "colorbar": {
             "outlinewidth": 0,
             "ticks": ""
            },
            "colorscale": [
             [
              0,
              "#0d0887"
             ],
             [
              0.1111111111111111,
              "#46039f"
             ],
             [
              0.2222222222222222,
              "#7201a8"
             ],
             [
              0.3333333333333333,
              "#9c179e"
             ],
             [
              0.4444444444444444,
              "#bd3786"
             ],
             [
              0.5555555555555556,
              "#d8576b"
             ],
             [
              0.6666666666666666,
              "#ed7953"
             ],
             [
              0.7777777777777778,
              "#fb9f3a"
             ],
             [
              0.8888888888888888,
              "#fdca26"
             ],
             [
              1,
              "#f0f921"
             ]
            ],
            "type": "heatmap"
           }
          ],
          "heatmapgl": [
           {
            "colorbar": {
             "outlinewidth": 0,
             "ticks": ""
            },
            "colorscale": [
             [
              0,
              "#0d0887"
             ],
             [
              0.1111111111111111,
              "#46039f"
             ],
             [
              0.2222222222222222,
              "#7201a8"
             ],
             [
              0.3333333333333333,
              "#9c179e"
             ],
             [
              0.4444444444444444,
              "#bd3786"
             ],
             [
              0.5555555555555556,
              "#d8576b"
             ],
             [
              0.6666666666666666,
              "#ed7953"
             ],
             [
              0.7777777777777778,
              "#fb9f3a"
             ],
             [
              0.8888888888888888,
              "#fdca26"
             ],
             [
              1,
              "#f0f921"
             ]
            ],
            "type": "heatmapgl"
           }
          ],
          "histogram": [
           {
            "marker": {
             "pattern": {
              "fillmode": "overlay",
              "size": 10,
              "solidity": 0.2
             }
            },
            "type": "histogram"
           }
          ],
          "histogram2d": [
           {
            "colorbar": {
             "outlinewidth": 0,
             "ticks": ""
            },
            "colorscale": [
             [
              0,
              "#0d0887"
             ],
             [
              0.1111111111111111,
              "#46039f"
             ],
             [
              0.2222222222222222,
              "#7201a8"
             ],
             [
              0.3333333333333333,
              "#9c179e"
             ],
             [
              0.4444444444444444,
              "#bd3786"
             ],
             [
              0.5555555555555556,
              "#d8576b"
             ],
             [
              0.6666666666666666,
              "#ed7953"
             ],
             [
              0.7777777777777778,
              "#fb9f3a"
             ],
             [
              0.8888888888888888,
              "#fdca26"
             ],
             [
              1,
              "#f0f921"
             ]
            ],
            "type": "histogram2d"
           }
          ],
          "histogram2dcontour": [
           {
            "colorbar": {
             "outlinewidth": 0,
             "ticks": ""
            },
            "colorscale": [
             [
              0,
              "#0d0887"
             ],
             [
              0.1111111111111111,
              "#46039f"
             ],
             [
              0.2222222222222222,
              "#7201a8"
             ],
             [
              0.3333333333333333,
              "#9c179e"
             ],
             [
              0.4444444444444444,
              "#bd3786"
             ],
             [
              0.5555555555555556,
              "#d8576b"
             ],
             [
              0.6666666666666666,
              "#ed7953"
             ],
             [
              0.7777777777777778,
              "#fb9f3a"
             ],
             [
              0.8888888888888888,
              "#fdca26"
             ],
             [
              1,
              "#f0f921"
             ]
            ],
            "type": "histogram2dcontour"
           }
          ],
          "mesh3d": [
           {
            "colorbar": {
             "outlinewidth": 0,
             "ticks": ""
            },
            "type": "mesh3d"
           }
          ],
          "parcoords": [
           {
            "line": {
             "colorbar": {
              "outlinewidth": 0,
              "ticks": ""
             }
            },
            "type": "parcoords"
           }
          ],
          "pie": [
           {
            "automargin": true,
            "type": "pie"
           }
          ],
          "scatter": [
           {
            "fillpattern": {
             "fillmode": "overlay",
             "size": 10,
             "solidity": 0.2
            },
            "type": "scatter"
           }
          ],
          "scatter3d": [
           {
            "line": {
             "colorbar": {
              "outlinewidth": 0,
              "ticks": ""
             }
            },
            "marker": {
             "colorbar": {
              "outlinewidth": 0,
              "ticks": ""
             }
            },
            "type": "scatter3d"
           }
          ],
          "scattercarpet": [
           {
            "marker": {
             "colorbar": {
              "outlinewidth": 0,
              "ticks": ""
             }
            },
            "type": "scattercarpet"
           }
          ],
          "scattergeo": [
           {
            "marker": {
             "colorbar": {
              "outlinewidth": 0,
              "ticks": ""
             }
            },
            "type": "scattergeo"
           }
          ],
          "scattergl": [
           {
            "marker": {
             "colorbar": {
              "outlinewidth": 0,
              "ticks": ""
             }
            },
            "type": "scattergl"
           }
          ],
          "scattermapbox": [
           {
            "marker": {
             "colorbar": {
              "outlinewidth": 0,
              "ticks": ""
             }
            },
            "type": "scattermapbox"
           }
          ],
          "scatterpolar": [
           {
            "marker": {
             "colorbar": {
              "outlinewidth": 0,
              "ticks": ""
             }
            },
            "type": "scatterpolar"
           }
          ],
          "scatterpolargl": [
           {
            "marker": {
             "colorbar": {
              "outlinewidth": 0,
              "ticks": ""
             }
            },
            "type": "scatterpolargl"
           }
          ],
          "scatterternary": [
           {
            "marker": {
             "colorbar": {
              "outlinewidth": 0,
              "ticks": ""
             }
            },
            "type": "scatterternary"
           }
          ],
          "surface": [
           {
            "colorbar": {
             "outlinewidth": 0,
             "ticks": ""
            },
            "colorscale": [
             [
              0,
              "#0d0887"
             ],
             [
              0.1111111111111111,
              "#46039f"
             ],
             [
              0.2222222222222222,
              "#7201a8"
             ],
             [
              0.3333333333333333,
              "#9c179e"
             ],
             [
              0.4444444444444444,
              "#bd3786"
             ],
             [
              0.5555555555555556,
              "#d8576b"
             ],
             [
              0.6666666666666666,
              "#ed7953"
             ],
             [
              0.7777777777777778,
              "#fb9f3a"
             ],
             [
              0.8888888888888888,
              "#fdca26"
             ],
             [
              1,
              "#f0f921"
             ]
            ],
            "type": "surface"
           }
          ],
          "table": [
           {
            "cells": {
             "fill": {
              "color": "#EBF0F8"
             },
             "line": {
              "color": "white"
             }
            },
            "header": {
             "fill": {
              "color": "#C8D4E3"
             },
             "line": {
              "color": "white"
             }
            },
            "type": "table"
           }
          ]
         },
         "layout": {
          "annotationdefaults": {
           "arrowcolor": "#2a3f5f",
           "arrowhead": 0,
           "arrowwidth": 1
          },
          "autotypenumbers": "strict",
          "coloraxis": {
           "colorbar": {
            "outlinewidth": 0,
            "ticks": ""
           }
          },
          "colorscale": {
           "diverging": [
            [
             0,
             "#8e0152"
            ],
            [
             0.1,
             "#c51b7d"
            ],
            [
             0.2,
             "#de77ae"
            ],
            [
             0.3,
             "#f1b6da"
            ],
            [
             0.4,
             "#fde0ef"
            ],
            [
             0.5,
             "#f7f7f7"
            ],
            [
             0.6,
             "#e6f5d0"
            ],
            [
             0.7,
             "#b8e186"
            ],
            [
             0.8,
             "#7fbc41"
            ],
            [
             0.9,
             "#4d9221"
            ],
            [
             1,
             "#276419"
            ]
           ],
           "sequential": [
            [
             0,
             "#0d0887"
            ],
            [
             0.1111111111111111,
             "#46039f"
            ],
            [
             0.2222222222222222,
             "#7201a8"
            ],
            [
             0.3333333333333333,
             "#9c179e"
            ],
            [
             0.4444444444444444,
             "#bd3786"
            ],
            [
             0.5555555555555556,
             "#d8576b"
            ],
            [
             0.6666666666666666,
             "#ed7953"
            ],
            [
             0.7777777777777778,
             "#fb9f3a"
            ],
            [
             0.8888888888888888,
             "#fdca26"
            ],
            [
             1,
             "#f0f921"
            ]
           ],
           "sequentialminus": [
            [
             0,
             "#0d0887"
            ],
            [
             0.1111111111111111,
             "#46039f"
            ],
            [
             0.2222222222222222,
             "#7201a8"
            ],
            [
             0.3333333333333333,
             "#9c179e"
            ],
            [
             0.4444444444444444,
             "#bd3786"
            ],
            [
             0.5555555555555556,
             "#d8576b"
            ],
            [
             0.6666666666666666,
             "#ed7953"
            ],
            [
             0.7777777777777778,
             "#fb9f3a"
            ],
            [
             0.8888888888888888,
             "#fdca26"
            ],
            [
             1,
             "#f0f921"
            ]
           ]
          },
          "colorway": [
           "#636efa",
           "#EF553B",
           "#00cc96",
           "#ab63fa",
           "#FFA15A",
           "#19d3f3",
           "#FF6692",
           "#B6E880",
           "#FF97FF",
           "#FECB52"
          ],
          "font": {
           "color": "#2a3f5f"
          },
          "geo": {
           "bgcolor": "white",
           "lakecolor": "white",
           "landcolor": "#E5ECF6",
           "showlakes": true,
           "showland": true,
           "subunitcolor": "white"
          },
          "hoverlabel": {
           "align": "left"
          },
          "hovermode": "closest",
          "mapbox": {
           "style": "light"
          },
          "paper_bgcolor": "white",
          "plot_bgcolor": "#E5ECF6",
          "polar": {
           "angularaxis": {
            "gridcolor": "white",
            "linecolor": "white",
            "ticks": ""
           },
           "bgcolor": "#E5ECF6",
           "radialaxis": {
            "gridcolor": "white",
            "linecolor": "white",
            "ticks": ""
           }
          },
          "scene": {
           "xaxis": {
            "backgroundcolor": "#E5ECF6",
            "gridcolor": "white",
            "gridwidth": 2,
            "linecolor": "white",
            "showbackground": true,
            "ticks": "",
            "zerolinecolor": "white"
           },
           "yaxis": {
            "backgroundcolor": "#E5ECF6",
            "gridcolor": "white",
            "gridwidth": 2,
            "linecolor": "white",
            "showbackground": true,
            "ticks": "",
            "zerolinecolor": "white"
           },
           "zaxis": {
            "backgroundcolor": "#E5ECF6",
            "gridcolor": "white",
            "gridwidth": 2,
            "linecolor": "white",
            "showbackground": true,
            "ticks": "",
            "zerolinecolor": "white"
           }
          },
          "shapedefaults": {
           "line": {
            "color": "#2a3f5f"
           }
          },
          "ternary": {
           "aaxis": {
            "gridcolor": "white",
            "linecolor": "white",
            "ticks": ""
           },
           "baxis": {
            "gridcolor": "white",
            "linecolor": "white",
            "ticks": ""
           },
           "bgcolor": "#E5ECF6",
           "caxis": {
            "gridcolor": "white",
            "linecolor": "white",
            "ticks": ""
           }
          },
          "title": {
           "x": 0.05
          },
          "xaxis": {
           "automargin": true,
           "gridcolor": "white",
           "linecolor": "white",
           "ticks": "",
           "title": {
            "standoff": 15
           },
           "zerolinecolor": "white",
           "zerolinewidth": 2
          },
          "yaxis": {
           "automargin": true,
           "gridcolor": "white",
           "linecolor": "white",
           "ticks": "",
           "title": {
            "standoff": 15
           },
           "zerolinecolor": "white",
           "zerolinewidth": 2
          }
         }
        },
        "title": {
         "text": "Pourcentage de décisions positives en fonction des notes données (hommes)"
        },
        "xaxis": {
         "title": {
          "text": "Note"
         }
        },
        "yaxis": {
         "title": {
          "text": "Pourcentage de décisions positives (%)"
         }
        }
       }
      }
     },
     "metadata": {},
     "output_type": "display_data"
    }
   ],
   "source": [
    "# dec : Circle “Yes” or “No” below the ID number of each person you meet to indicate whetheror not you would like to see him or her again, 1=yes 0=no\n",
    "\n",
    "df_processed_F = df_processed[df_processed[\"gender\"] == 0].copy()\n",
    "df_processed_M = df_processed[df_processed[\"gender\"] == 1].copy()\n",
    "\n",
    "\n",
    "cols = attributes + ['like']\n",
    "cols_names = attribute_names + [\"Note globale\"]\n",
    "\n",
    "# round pour obtenir 10 points sur l'axe x.\n",
    "df_processed_F[cols] = df_processed_F[cols].round(0)\n",
    "df_processed_M[cols] = df_processed_M[cols].round(0)\n",
    "\n",
    "fig = go.Figure()\n",
    "\n",
    "for i in range(len(cols)) :\n",
    "    positive_dec_percentage_per_rating = df_processed_F.groupby(cols[i])['dec'].mean() * 100\n",
    "    fig.add_trace(go.Scatter(\n",
    "        x=positive_dec_percentage_per_rating.index,\n",
    "        y=positive_dec_percentage_per_rating.values,\n",
    "        mode='lines+markers',\n",
    "        name=cols_names[i]\n",
    "    ))\n",
    "\n",
    "fig.update_layout(\n",
    "    title=\"Pourcentage de décisions positives en fonction des notes données (femmes)\",\n",
    "    xaxis_title=\"Note\",\n",
    "    yaxis_title=\"Pourcentage de décisions positives (%)\",\n",
    "    template=\"plotly\"\n",
    ")\n",
    "\n",
    "fig.show()\n",
    "\n",
    "\n",
    "fig = go.Figure()\n",
    "\n",
    "for i in range(len(cols)) :\n",
    "    positive_dec_percentage_per_rating = df_processed_M.groupby(cols[i])['dec'].mean() * 100\n",
    "    fig.add_trace(go.Scatter(\n",
    "        x=positive_dec_percentage_per_rating.index,\n",
    "        y=positive_dec_percentage_per_rating.values,\n",
    "        mode='lines+markers',\n",
    "        name=cols_names[i]\n",
    "    ))\n",
    "\n",
    "fig.update_layout(\n",
    "    title=\"Pourcentage de décisions positives en fonction des notes données (hommes)\",\n",
    "    xaxis_title=\"Note\",\n",
    "    yaxis_title=\"Pourcentage de décisions positives (%)\",\n",
    "    template=\"plotly\"\n",
    ")\n",
    "\n",
    "fig.show()"
   ]
  },
  {
   "cell_type": "markdown",
   "metadata": {},
   "source": [
    "Toutes les notes semblent corrélées positivement avec la décision, bien que l'attractivité, les intérêts partagés et le divertissement semblent plus important.\n",
    "\n",
    "Les résultats pour les femmes et les hommes ne présentent pas de différences significatives."
   ]
  },
  {
   "cell_type": "code",
   "execution_count": 28,
   "metadata": {},
   "outputs": [
    {
     "data": {
      "application/vnd.plotly.v1+json": {
       "config": {
        "plotlyServerURL": "https://plot.ly"
       },
       "data": [
        {
         "mode": "lines+markers",
         "name": "décision positive du partenaire",
         "type": "scatter",
         "visible": true,
         "x": [
          "18 - 22",
          "22 - 26",
          "26 - 30",
          "30 - 34",
          "34 - 39",
          "39 - 43*",
          "51 - 55*"
         ],
         "y": [
          44.474393530997304,
          43.04812834224599,
          42.75606469002695,
          32.56172839506173,
          34.10852713178294,
          15.789473684210526,
          16.666666666666664
         ]
        },
        {
         "mode": "lines+markers",
         "name": "décision positive",
         "type": "scatter",
         "visible": true,
         "x": [
          "18 - 22",
          "22 - 26",
          "26 - 30",
          "30 - 34",
          "34 - 39",
          "39 - 43*",
          "51 - 55*"
         ],
         "y": [
          47.97843665768194,
          41.22508507535245,
          41.37466307277628,
          45.370370370370374,
          41.86046511627907,
          86.8421052631579,
          66.66666666666666
         ]
        },
        {
         "mode": "lines+markers",
         "name": "match",
         "type": "scatter",
         "visible": true,
         "x": [
          "18 - 22",
          "22 - 26",
          "26 - 30",
          "30 - 34",
          "34 - 39",
          "39 - 43*",
          "51 - 55*"
         ],
         "y": [
          22.641509433962266,
          17.08799222168206,
          15.970350404312669,
          12.191358024691358,
          12.4031007751938,
          15.789473684210526,
          0
         ]
        },
        {
         "mode": "lines+markers",
         "name": "décision positive du partenaire",
         "type": "scatter",
         "visible": false,
         "x": [
          "-32 - -25*",
          "-25 - -18*",
          "-18 - -11",
          "-11 - -4",
          "-4 - 4",
          "4 - 11",
          "11 - 18",
          "18 - 25*",
          "25 - 32*"
         ],
         "y": [
          0,
          10,
          35.294117647058826,
          37.37191078963231,
          43.63126079447323,
          42.495479204339965,
          46.07843137254902,
          70,
          66.66666666666666
         ]
        },
        {
         "mode": "lines+markers",
         "name": "décision positive",
         "type": "scatter",
         "visible": false,
         "x": [
          "-32 - -25*",
          "-25 - -18*",
          "-18 - -11",
          "-11 - -4",
          "-4 - 4",
          "4 - 11",
          "11 - 18",
          "18 - 25*",
          "25 - 32*"
         ],
         "y": [
          66.66666666666666,
          70,
          46.07843137254902,
          42.495479204339965,
          43.63126079447323,
          37.37191078963231,
          35.294117647058826,
          10,
          0
         ]
        },
        {
         "mode": "lines+markers",
         "name": "match",
         "type": "scatter",
         "visible": false,
         "x": [
          "-32 - -25*",
          "-25 - -18*",
          "-18 - -11",
          "-11 - -4",
          "-4 - 4",
          "4 - 11",
          "11 - 18",
          "18 - 25*",
          "25 - 32*"
         ],
         "y": [
          0,
          0,
          8.823529411764707,
          14.406268836648584,
          18.307426597582037,
          14.406268836648584,
          8.823529411764707,
          0,
          0
         ]
        },
        {
         "mode": "lines+markers",
         "name": "décision positive du partenaire",
         "type": "scatter",
         "visible": false,
         "x": [
          "9 k - 20 k",
          "20 k - 31 k",
          "31 k - 42 k",
          "42 k - 53 k",
          "53 k - 64 k",
          "64 k - 76 k",
          "76 k - 87 k",
          "87 k - 98 k*",
          "98 k - 109 k*"
         ],
         "y": [
          46.32768361581921,
          40.973111395646605,
          44.30622009569378,
          45.07042253521127,
          50.753768844221106,
          46.92307692307692,
          40.30612244897959,
          59.57446808510638,
          35.294117647058826
         ]
        },
        {
         "mode": "lines+markers",
         "name": "décision positive",
         "type": "scatter",
         "visible": false,
         "x": [
          "9 k - 20 k",
          "20 k - 31 k",
          "31 k - 42 k",
          "42 k - 53 k",
          "53 k - 64 k",
          "64 k - 76 k",
          "76 k - 87 k",
          "87 k - 98 k*",
          "98 k - 109 k*"
         ],
         "y": [
          32.7683615819209,
          37.77208706786171,
          40.86124401913875,
          37.235915492957744,
          42.71356783919598,
          47.69230769230769,
          41.83673469387755,
          46.808510638297875,
          20.588235294117645
         ]
        },
        {
         "mode": "lines+markers",
         "name": "match",
         "type": "scatter",
         "visible": false,
         "x": [
          "9 k - 20 k",
          "20 k - 31 k",
          "31 k - 42 k",
          "42 k - 53 k",
          "53 k - 64 k",
          "64 k - 76 k",
          "76 k - 87 k",
          "87 k - 98 k*",
          "98 k - 109 k*"
         ],
         "y": [
          15.254237288135593,
          15.87708066581306,
          17.799043062200955,
          14.964788732394366,
          20.603015075376884,
          23.076923076923077,
          16.3265306122449,
          27.659574468085108,
          2.941176470588235
         ]
        },
        {
         "mode": "lines+markers",
         "name": "décision positive du partenaire",
         "type": "scatter",
         "visible": false,
         "x": [
          "-86 k - -67 k*",
          "-67 k - -48 k*",
          "-48 k - -29 k",
          "-29 k - -10 k",
          "-10 k - 10 k",
          "10 k - 29 k",
          "29 k - 48 k",
          "48 k - 67 k*",
          "67 k - 86 k*"
         ],
         "y": [
          45.45454545454545,
          43.13725490196079,
          40,
          43.43434343434344,
          42.12707182320442,
          44.24242424242424,
          42.94117647058823,
          50.98039215686274,
          27.27272727272727
         ]
        },
        {
         "mode": "lines+markers",
         "name": "décision positive",
         "type": "scatter",
         "visible": false,
         "x": [
          "-86 k - -67 k*",
          "-67 k - -48 k*",
          "-48 k - -29 k",
          "-29 k - -10 k",
          "-10 k - 10 k",
          "10 k - 29 k",
          "29 k - 48 k",
          "48 k - 67 k*",
          "67 k - 86 k*"
         ],
         "y": [
          27.27272727272727,
          50.98039215686274,
          42.94117647058823,
          44.24242424242424,
          42.12707182320442,
          43.43434343434344,
          40,
          43.13725490196079,
          45.45454545454545
         ]
        },
        {
         "mode": "lines+markers",
         "name": "match",
         "type": "scatter",
         "visible": false,
         "x": [
          "-86 k - -67 k*",
          "-67 k - -48 k*",
          "-48 k - -29 k",
          "-29 k - -10 k",
          "-10 k - 10 k",
          "10 k - 29 k",
          "29 k - 48 k",
          "48 k - 67 k*",
          "67 k - 86 k*"
         ],
         "y": [
          9.090909090909092,
          19.607843137254903,
          20.588235294117645,
          17.575757575757574,
          18.784530386740332,
          17.575757575757574,
          20.588235294117645,
          19.607843137254903,
          9.090909090909092
         ]
        },
        {
         "mode": "lines+markers",
         "name": "décision positive du partenaire",
         "type": "scatter",
         "visible": false,
         "x": [
          "-1 - -1*",
          "-1 - 0",
          "0 - 0",
          "0 - 0",
          "0 - 0",
          "0 - 1",
          "1 - 1"
         ],
         "y": [
          31.818181818181817,
          38.8268156424581,
          41.75170068027211,
          41.73478655767484,
          42.16326530612245,
          42.56678281068525,
          45
         ]
        },
        {
         "mode": "lines+markers",
         "name": "décision positive",
         "type": "scatter",
         "visible": false,
         "x": [
          "-1 - -1*",
          "-1 - 0",
          "0 - 0",
          "0 - 0",
          "0 - 0",
          "0 - 1",
          "1 - 1"
         ],
         "y": [
          31.818181818181817,
          38.8268156424581,
          41.75170068027211,
          41.73478655767484,
          42.16326530612245,
          42.56678281068525,
          45
         ]
        },
        {
         "mode": "lines+markers",
         "name": "match",
         "type": "scatter",
         "visible": false,
         "x": [
          "-1 - -1*",
          "-1 - 0",
          "0 - 0",
          "0 - 0",
          "0 - 0",
          "0 - 1",
          "1 - 1"
         ],
         "y": [
          18.181818181818183,
          15.64245810055866,
          15.136054421768709,
          15.440508628519527,
          16.3265306122449,
          18.466898954703833,
          19.28571428571429
         ]
        },
        {
         "mode": "lines+markers",
         "name": "décision positive du partenaire",
         "type": "scatter",
         "visible": false,
         "x": [
          "Pour dire que je l'ai fait",
          "Ça semblait être une soirée amusante",
          "Autre",
          "Pour rencontrer de nouvelles personnes",
          "Pour avoir un rendez-vous",
          "À la recherche d'une relation sérieuse"
         ],
         "y": [
          44.509803921568626,
          44.097019286966685,
          41.866028708133975,
          39.913592555666334,
          39.523809523809526,
          36.666666666666664
         ]
        },
        {
         "mode": "lines+markers",
         "name": "décision positive",
         "type": "scatter",
         "visible": false,
         "x": [
          "Pour dire que je l'ai fait",
          "Ça semblait être une soirée amusante",
          "Autre",
          "Pour rencontrer de nouvelles personnes",
          "Pour avoir un rendez-vous",
          "À la recherche d'une relation sérieuse"
         ],
         "y": [
          36.86274509803922,
          41.174751607247224,
          39.71291866028708,
          42.838152210036554,
          44.920634920634924,
          52.33333333333333
         ]
        },
        {
         "mode": "lines+markers",
         "name": "match",
         "type": "scatter",
         "visible": false,
         "x": [
          "Pour dire que je l'ai fait",
          "Ça semblait être une soirée amusante",
          "Autre",
          "Pour rencontrer de nouvelles personnes",
          "Pour avoir un rendez-vous",
          "À la recherche d'une relation sérieuse"
         ],
         "y": [
          16.666666666666664,
          17.036820572764466,
          14.832535885167463,
          16.085078099036224,
          15.873015873015872,
          17
         ]
        },
        {
         "mode": "lines+markers",
         "name": "décision positive du partenaire",
         "type": "scatter",
         "visible": false,
         "x": [
          "Plusieurs fois par semaine*",
          "Une fois par semaine",
          "Deux fois par mois",
          "Deux fois par semaine",
          "Une fois par mois",
          "Plusieurs fois par an",
          "Presque jamais"
         ],
         "y": [
          53.191489361702125,
          48.78048780487805,
          44.72780774889652,
          41.883116883116884,
          41.41546526867628,
          39.05353728489484,
          37.68318213538032
         ]
        },
        {
         "mode": "lines+markers",
         "name": "décision positive",
         "type": "scatter",
         "visible": false,
         "x": [
          "Plusieurs fois par semaine*",
          "Une fois par semaine",
          "Deux fois par mois",
          "Deux fois par semaine",
          "Une fois par mois",
          "Plusieurs fois par an",
          "Presque jamais"
         ],
         "y": [
          53.191489361702125,
          44.1591784338896,
          43.20745463462482,
          49.35064935064935,
          39.64613368283093,
          42.39961759082218,
          39.91625959525471
         ]
        },
        {
         "mode": "lines+markers",
         "name": "match",
         "type": "scatter",
         "visible": false,
         "x": [
          "Plusieurs fois par semaine*",
          "Une fois par semaine",
          "Deux fois par mois",
          "Deux fois par semaine",
          "Une fois par mois",
          "Plusieurs fois par an",
          "Presque jamais"
         ],
         "y": [
          30.851063829787233,
          20.410783055198973,
          17.9009318293281,
          21.1038961038961,
          15.530799475753604,
          14.196940726577436,
          14.79413817166783
         ]
        },
        {
         "mode": "lines+markers",
         "name": "décision positive du partenaire",
         "type": "scatter",
         "visible": false,
         "x": [
          "Plusieurs fois par semaine",
          "Deux fois par semaine",
          "Une fois par semaine",
          "Une fois par mois",
          "Deux fois par mois",
          "Plusieurs fois par an*",
          "Presque jamais*"
         ],
         "y": [
          46.79462571976967,
          43.708165997322624,
          37.461459403905444,
          32.31707317073171,
          30.444444444444446,
          20.2020202020202,
          18.91891891891892
         ]
        },
        {
         "mode": "lines+markers",
         "name": "décision positive",
         "type": "scatter",
         "visible": false,
         "x": [
          "Plusieurs fois par semaine",
          "Deux fois par semaine",
          "Une fois par semaine",
          "Une fois par mois",
          "Deux fois par mois",
          "Plusieurs fois par an*",
          "Presque jamais*"
         ],
         "y": [
          41.689059500959694,
          39.558232931726906,
          45.11819116135663,
          37.19512195121951,
          47.11111111111111,
          64.64646464646465,
          24.324324324324326
         ]
        },
        {
         "mode": "lines+markers",
         "name": "match",
         "type": "scatter",
         "visible": false,
         "x": [
          "Plusieurs fois par semaine",
          "Deux fois par semaine",
          "Une fois par semaine",
          "Une fois par mois",
          "Deux fois par mois",
          "Plusieurs fois par an*",
          "Presque jamais*"
         ],
         "y": [
          19.46257197696737,
          16.030789825970547,
          14.850976361767728,
          11.585365853658537,
          12.666666666666668,
          13.131313131313133,
          2.7027027027027026
         ]
        },
        {
         "mode": "lines+markers",
         "name": "décision positive du partenaire",
         "type": "scatter",
         "visible": false,
         "x": [
          "Langues*",
          "Sciences médicales, pharmaceutiques et biotechnologie",
          "Autre*",
          "Commerce / Économie / Finance",
          "Sciences politiques / Affaires internationales",
          "Droit",
          "Histoire / Religion / Philosophie",
          "Anglais / Écriture créative / Journalisme",
          "Premier cycle / Indécis*",
          "Sciences biologiques / Chimie / Physique",
          "Travail social",
          "Architecture*",
          "Sciences sociales / Psychologie",
          "Beaux-arts / Administration des arts",
          "Cinéma",
          "Éducation / Académie",
          "Mathématiques",
          "Ingénierie"
         ],
         "y": [
          80,
          65.49295774647888,
          51.92307692307693,
          45.501820072802914,
          44.287729196050776,
          43.674698795180724,
          42.5,
          42.46153846153846,
          42.10526315789473,
          41.49043303121853,
          40.81196581196581,
          40,
          39.94252873563218,
          39.037433155080215,
          38.88888888888889,
          37.85942492012779,
          36.71497584541063,
          32.13038416763679
         ]
        },
        {
         "mode": "lines+markers",
         "name": "décision positive",
         "type": "scatter",
         "visible": false,
         "x": [
          "Langues*",
          "Sciences médicales, pharmaceutiques et biotechnologie",
          "Autre*",
          "Commerce / Économie / Finance",
          "Sciences politiques / Affaires internationales",
          "Droit",
          "Histoire / Religion / Philosophie",
          "Anglais / Écriture créative / Journalisme",
          "Premier cycle / Indécis*",
          "Sciences biologiques / Chimie / Physique",
          "Travail social",
          "Architecture*",
          "Sciences sociales / Psychologie",
          "Beaux-arts / Administration des arts",
          "Cinéma",
          "Éducation / Académie",
          "Mathématiques",
          "Ingénierie"
         ],
         "y": [
          40,
          47.183098591549296,
          42.30769230769231,
          41.18564742589704,
          40.62059238363893,
          46.3855421686747,
          38.75,
          35.07692307692308,
          26.31578947368421,
          43.50453172205438,
          32.69230769230769,
          20,
          44.827586206896555,
          31.550802139037433,
          53.96825396825397,
          45.367412140575084,
          35.26570048309179,
          47.38067520372526
         ]
        },
        {
         "mode": "lines+markers",
         "name": "match",
         "type": "scatter",
         "visible": false,
         "x": [
          "Langues*",
          "Sciences médicales, pharmaceutiques et biotechnologie",
          "Autre*",
          "Commerce / Économie / Finance",
          "Sciences politiques / Affaires internationales",
          "Droit",
          "Histoire / Religion / Philosophie",
          "Anglais / Écriture créative / Journalisme",
          "Premier cycle / Indécis*",
          "Sciences biologiques / Chimie / Physique",
          "Travail social",
          "Architecture*",
          "Sciences sociales / Psychologie",
          "Beaux-arts / Administration des arts",
          "Cinéma",
          "Éducation / Académie",
          "Mathématiques",
          "Ingénierie"
         ],
         "y": [
          30,
          32.3943661971831,
          15.384615384615385,
          17.576703068122725,
          16.784203102961918,
          20.481927710843372,
          16.666666666666664,
          14.76923076923077,
          5.263157894736842,
          16.2134944612286,
          10.683760683760683,
          10,
          18.39080459770115,
          11.76470588235294,
          18.253968253968253,
          15.175718849840255,
          10.144927536231885,
          13.62048894062864
         ]
        },
        {
         "mode": "lines+markers",
         "name": "décision positive du partenaire",
         "type": "scatter",
         "visible": false,
         "x": [
          "Affaires internationales / humanitaires",
          "Avocat",
          "Autre*",
          "Médecin",
          "Journalisme*",
          "Banque/Conseil/Finance/Marketing/Affaires/PDG/Entrepreneur/Administration",
          "Indécis",
          "Immobilier*",
          "Arts créatifs / Divertissement",
          "Sports professionnels / Athlétisme*",
          "Architecture*",
          "Universitaire / Recherche",
          "Travail social",
          "Psychologue",
          "Politique*",
          "Ingénieur",
          "Orthophonie*"
         ],
         "y": [
          48.263254113345525,
          46.062407132243685,
          45.45454545454545,
          44.01913875598086,
          43.18181818181818,
          43.06131857999078,
          41.90981432360743,
          41.02564102564102,
          40.94052558782849,
          40,
          40,
          39.91379310344828,
          39.09090909090909,
          38.31417624521073,
          37.03703703703704,
          33.90557939914164,
          14.285714285714285
         ]
        },
        {
         "mode": "lines+markers",
         "name": "décision positive",
         "type": "scatter",
         "visible": false,
         "x": [
          "Affaires internationales / humanitaires",
          "Avocat",
          "Autre*",
          "Médecin",
          "Journalisme*",
          "Banque/Conseil/Finance/Marketing/Affaires/PDG/Entrepreneur/Administration",
          "Indécis",
          "Immobilier*",
          "Arts créatifs / Divertissement",
          "Sports professionnels / Athlétisme*",
          "Architecture*",
          "Universitaire / Recherche",
          "Travail social",
          "Psychologue",
          "Politique*",
          "Ingénieur",
          "Orthophonie*"
         ],
         "y": [
          34.91773308957952,
          45.76523031203566,
          42.857142857142854,
          38.27751196172249,
          36.36363636363637,
          44.628861226371605,
          37.13527851458886,
          33.33333333333333,
          41.90871369294606,
          50,
          20,
          43.146551724137936,
          37.72727272727273,
          44.827586206896555,
          27.160493827160494,
          46.78111587982833,
          17.857142857142858
         ]
        },
        {
         "mode": "lines+markers",
         "name": "match",
         "type": "scatter",
         "visible": false,
         "x": [
          "Affaires internationales / humanitaires",
          "Avocat",
          "Autre*",
          "Médecin",
          "Journalisme*",
          "Banque/Conseil/Finance/Marketing/Affaires/PDG/Entrepreneur/Administration",
          "Indécis",
          "Immobilier*",
          "Arts créatifs / Divertissement",
          "Sports professionnels / Athlétisme*",
          "Architecture*",
          "Universitaire / Recherche",
          "Travail social",
          "Psychologue",
          "Politique*",
          "Ingénieur",
          "Orthophonie*"
         ],
         "y": [
          14.442413162705666,
          19.910846953937593,
          16.883116883116884,
          16.74641148325359,
          18.181818181818183,
          17.98063623789765,
          12.73209549071618,
          12.82051282051282,
          15.90594744121715,
          30,
          10,
          15.517241379310345,
          15.909090909090908,
          20.689655172413794,
          7.4074074074074066,
          15.450643776824036,
          3.571428571428571
         ]
        },
        {
         "marker": {
          "color": "rgba(0,0,0,0)"
         },
         "mode": "markers",
         "name": "*Groupe de taille réduite (< 100 lignes).",
         "showlegend": true,
         "type": "scatter",
         "x": [
          null
         ],
         "y": [
          null
         ]
        }
       ],
       "layout": {
        "height": 900,
        "legend": {
         "xanchor": "right",
         "yanchor": "bottom"
        },
        "margin": {
         "b": 275
        },
        "template": {
         "layout": {
          "colorway": [
           "#4B9AC7",
           "#4BE8E0",
           "#9DD4F3",
           "#97FBF6",
           "#2A7FAF",
           "#23B1AB",
           "#0E3449",
           "#015955"
          ]
         }
        },
        "title": {
         "text": "Pourcentage de décisions positives / match  en fonction de l'âge"
        },
        "updatemenus": [
         {
          "buttons": [
           {
            "args": [
             {
              "visible": [
               true,
               true,
               true,
               false,
               false,
               false,
               false,
               false,
               false,
               false,
               false,
               false,
               false,
               false,
               false,
               false,
               false,
               false,
               false,
               false,
               false,
               false,
               false,
               false,
               false,
               false,
               false,
               false,
               false,
               false,
               true
              ]
             },
             {
              "title": "Pourcentage de décisions positives / match en fonction de l'âge",
              "xaxis": {
               "title": {
                "text": "Âge"
               }
              }
             }
            ],
            "label": "Âge",
            "method": "update"
           },
           {
            "args": [
             {
              "visible": [
               false,
               false,
               false,
               true,
               true,
               true,
               false,
               false,
               false,
               false,
               false,
               false,
               false,
               false,
               false,
               false,
               false,
               false,
               false,
               false,
               false,
               false,
               false,
               false,
               false,
               false,
               false,
               false,
               false,
               false,
               true
              ]
             },
             {
              "title": "Pourcentage de décisions positives / match en fonction de la différence d'âge",
              "xaxis": {
               "title": {
                "text": "Différence d'âge"
               }
              }
             }
            ],
            "label": "Différence d'âge",
            "method": "update"
           },
           {
            "args": [
             {
              "visible": [
               false,
               false,
               false,
               false,
               false,
               false,
               true,
               true,
               true,
               false,
               false,
               false,
               false,
               false,
               false,
               false,
               false,
               false,
               false,
               false,
               false,
               false,
               false,
               false,
               false,
               false,
               false,
               false,
               false,
               false,
               true
              ]
             },
             {
              "title": "Pourcentage de décisions positives / match en fonction du revenu médian des ménages",
              "xaxis": {
               "title": {
                "text": "Revenu médian des ménages"
               }
              }
             }
            ],
            "label": "Revenu médian des ménages",
            "method": "update"
           },
           {
            "args": [
             {
              "visible": [
               false,
               false,
               false,
               false,
               false,
               false,
               false,
               false,
               false,
               true,
               true,
               true,
               false,
               false,
               false,
               false,
               false,
               false,
               false,
               false,
               false,
               false,
               false,
               false,
               false,
               false,
               false,
               false,
               false,
               false,
               true
              ]
             },
             {
              "title": "Pourcentage de décisions positives / match en fonction de l'écart de revenu médian",
              "xaxis": {
               "title": {
                "text": "Écart de revenu médian"
               }
              }
             }
            ],
            "label": "Écart de revenu médian",
            "method": "update"
           },
           {
            "args": [
             {
              "visible": [
               false,
               false,
               false,
               false,
               false,
               false,
               false,
               false,
               false,
               false,
               false,
               false,
               true,
               true,
               true,
               false,
               false,
               false,
               false,
               false,
               false,
               false,
               false,
               false,
               false,
               false,
               false,
               false,
               false,
               false,
               true
              ]
             },
             {
              "title": "Pourcentage de décisions positives / match en fonction de la corrélation entre les centres d'intérêt",
              "xaxis": {
               "title": {
                "text": "Corrélation des centres d'intérêt"
               }
              }
             }
            ],
            "label": "Corrélation des centres d'intérêt",
            "method": "update"
           },
           {
            "args": [
             {
              "visible": [
               false,
               false,
               false,
               false,
               false,
               false,
               false,
               false,
               false,
               false,
               false,
               false,
               false,
               false,
               false,
               true,
               true,
               true,
               false,
               false,
               false,
               false,
               false,
               false,
               false,
               false,
               false,
               false,
               false,
               false,
               true
              ]
             },
             {
              "title": "Pourcentage de décisions positives / match en fonction de la raison de participation",
              "xaxis": {
               "title": {
                "text": "Raison de participation"
               }
              }
             }
            ],
            "label": "Raison de participation",
            "method": "update"
           },
           {
            "args": [
             {
              "visible": [
               false,
               false,
               false,
               false,
               false,
               false,
               false,
               false,
               false,
               false,
               false,
               false,
               false,
               false,
               false,
               false,
               false,
               false,
               true,
               true,
               true,
               false,
               false,
               false,
               false,
               false,
               false,
               false,
               false,
               false,
               true
              ]
             },
             {
              "title": "Pourcentage de décisions positives / match en fonction de la fréquence de date",
              "xaxis": {
               "title": {
                "text": "Fréquence de date"
               }
              }
             }
            ],
            "label": "Fréquence de date",
            "method": "update"
           },
           {
            "args": [
             {
              "visible": [
               false,
               false,
               false,
               false,
               false,
               false,
               false,
               false,
               false,
               false,
               false,
               false,
               false,
               false,
               false,
               false,
               false,
               false,
               false,
               false,
               false,
               true,
               true,
               true,
               false,
               false,
               false,
               false,
               false,
               false,
               true
              ]
             },
             {
              "title": "Pourcentage de décisions positives / match en fonction de la fréquence de sortie",
              "xaxis": {
               "title": {
                "text": "Fréquence de sortie"
               }
              }
             }
            ],
            "label": "Fréquence de sortie",
            "method": "update"
           },
           {
            "args": [
             {
              "visible": [
               false,
               false,
               false,
               false,
               false,
               false,
               false,
               false,
               false,
               false,
               false,
               false,
               false,
               false,
               false,
               false,
               false,
               false,
               false,
               false,
               false,
               false,
               false,
               false,
               true,
               true,
               true,
               false,
               false,
               false,
               true
              ]
             },
             {
              "title": "Pourcentage de décisions positives / match en fonction du domaine d'études",
              "xaxis": {
               "title": {
                "text": "Domaine d'études"
               }
              }
             }
            ],
            "label": "Domaine d'études",
            "method": "update"
           },
           {
            "args": [
             {
              "visible": [
               false,
               false,
               false,
               false,
               false,
               false,
               false,
               false,
               false,
               false,
               false,
               false,
               false,
               false,
               false,
               false,
               false,
               false,
               false,
               false,
               false,
               false,
               false,
               false,
               false,
               false,
               false,
               true,
               true,
               true,
               true
              ]
             },
             {
              "title": "Pourcentage de décisions positives / match en fonction de la carrière",
              "xaxis": {
               "title": {
                "text": "Carrière"
               }
              }
             }
            ],
            "label": "Carrière",
            "method": "update"
           }
          ],
          "direction": "down",
          "type": "buttons"
         }
        ],
        "xaxis": {
         "title": {
          "text": "Age"
         }
        },
        "yaxis": {
         "title": {
          "text": "Pourcentage de décisions positives / match (%)"
         }
        }
       }
      }
     },
     "metadata": {},
     "output_type": "display_data"
    }
   ],
   "source": [
    "# age_dif : age of partner - age\n",
    "# income : Median household income based on zipcode using the Census Bureau website\n",
    "# income_dif : income of partner - income\n",
    "# int_corr : correlation between participant’s and partner’s ratings of interests inTime 1\n",
    "# goal : What is your primary goal in participating in this event?\n",
    "# date : In general, how frequently do you go on dates ?\n",
    "# go_out : How often do you go out (not necessarily on dates)?\n",
    "# field_cd : field of study coded\n",
    "# career_c : What is your intended career? coded\n",
    "\n",
    "cols = ['age', 'age_dif', 'income', 'income_dif', 'int_corr', 'goal', 'date', 'go_out', 'field_cd', 'career_c']\n",
    "cols_names = [\n",
    "    \"Âge\",\n",
    "    \"Différence d'âge\",\n",
    "    \"Revenu médian des ménages\",\n",
    "    \"Écart de revenu médian\",\n",
    "    \"Corrélation des centres d'intérêt\",\n",
    "    \"Raison de participation\",\n",
    "    \"Fréquence de date\",\n",
    "    \"Fréquence de sortie\",\n",
    "    \"Domaine d'études\",\n",
    "    \"Carrière\"\n",
    "]\n",
    "\n",
    "cols_titles = [\n",
    "    \"de l'âge\", \n",
    "    \"de la différence d'âge\", \n",
    "    \"du revenu médian des ménages\", \n",
    "    \"de l'écart de revenu médian\", \n",
    "    \"de la corrélation entre les centres d'intérêt\",\n",
    "    \"de la raison de participation\", \n",
    "    \"de la fréquence de date\", \n",
    "    \"de la fréquence de sortie\", \n",
    "    \"du domaine d'études\",\n",
    "    \"de la carrière\"\n",
    "]\n",
    "\n",
    "\n",
    "fig = go.Figure()\n",
    "buttons = []\n",
    "for i in range(len(cols)) :\n",
    "    col_name = cols[i]\n",
    "    visible = i == 0\n",
    "    is_numeric = pd.api.types.is_numeric_dtype(df_processed[col_name])\n",
    "    if is_numeric:\n",
    "        col_min = df_processed[col_name].min() -0.3\n",
    "        col_max = df_processed[col_name].max() +0.3\n",
    "        step_10 = (col_max - col_min)/9\n",
    "             \n",
    "        bins = np.arange(col_min, col_max + step_10, step_10)\n",
    "        group = df_processed.groupby(pd.cut(df_processed[col_name], bins=bins,include_lowest=True), observed=True)\n",
    "        if col_max > 1000 :\n",
    "            x_labels = [f\"{int(np.round(interval.left / 1000))} k - {int(np.round(interval.right / 1000))} k\"for interval in group.groups.keys()]\n",
    "        else : \n",
    "            x_labels = [f\"{int(np.round(interval.left))} - {int(np.round(interval.right))}\"for interval in group.groups.keys()]\n",
    "    else : \n",
    "        group = df_processed.groupby(col_name)\n",
    "        x_labels = group.groups.keys()\n",
    "    group_counts = group.size()\n",
    "    positive_dec_o_percentage = group['dec_o'].mean() * 100\n",
    "    positive_dec_percentage = group[\"dec\"].mean() * 100\n",
    "    match_percentage = group['match'].mean() * 100\n",
    "    if not is_numeric:\n",
    "        # Sort based on positive_dec_o_percentage quand la col n'est pas numérique (descending order)\n",
    "        sorted_idx = positive_dec_o_percentage.sort_values(ascending=False).index\n",
    "        positive_dec_o_percentage = positive_dec_o_percentage.loc[sorted_idx]\n",
    "        positive_dec_percentage = positive_dec_percentage.loc[sorted_idx]  \n",
    "        match_percentage = match_percentage.loc[sorted_idx]\n",
    "\n",
    "        x_labels = match_percentage.index.astype(str)\n",
    "        x_labels = [f\"{label}{'*' if group_counts[label] < 100 else ''}\" for label in x_labels]\n",
    "    # Obtain the count of rows for each group.\n",
    "    else :\n",
    "        x_labels = [f\"{label}{'*' if count < 100 else ''}\" for label, count in zip(x_labels, group_counts.values)]\n",
    "    fig.add_trace(go.Scatter(\n",
    "        x=x_labels,\n",
    "        y=positive_dec_o_percentage.values,\n",
    "        mode='lines+markers',\n",
    "        name=\"décision positive du partenaire\",\n",
    "        visible=visible\n",
    "    ))\n",
    "    fig.add_trace(go.Scatter(\n",
    "        x=x_labels,\n",
    "        y=positive_dec_percentage.values,\n",
    "        mode='lines+markers',\n",
    "        name=\"décision positive\",\n",
    "        visible=visible\n",
    "    ))\n",
    "    fig.add_trace(go.Scatter(\n",
    "        x=x_labels,\n",
    "        y=match_percentage.values,\n",
    "        mode='lines+markers',\n",
    "        name=\"match\",\n",
    "        visible=visible\n",
    "    ))\n",
    "    buttons.append({\n",
    "        \"args\": [\n",
    "            {\"visible\": [True if j in range(i * 3, i * 3 + 3) else False for j in range(len(cols) * 3)] + [True]},\n",
    "            {\"title\": f\"Pourcentage de décisions positives / match en fonction {cols_titles[i]}\",\n",
    "             \"xaxis\": {\"title\": {\"text\": cols_names[i]}}}\n",
    "        ],\n",
    "        \"label\": cols_names[i],\n",
    "        \"method\": \"update\"\n",
    "    })\n",
    "\n",
    "\n",
    "# ajoute une description à *\n",
    "fig.add_trace(go.Scatter(\n",
    "    x=[None],\n",
    "    y=[None],\n",
    "    mode='markers',\n",
    "    marker=dict(color='rgba(0,0,0,0)'),\n",
    "    showlegend=True,\n",
    "    name=\"*Groupe de taille réduite (< 100 lignes).\"\n",
    "))\n",
    "\n",
    "\n",
    "\n",
    "fig.update_layout(\n",
    "    height=900,\n",
    "    title=f\"Pourcentage de décisions positives / match  en fonction {cols_titles[0]}\",\n",
    "    xaxis_title=\"Age\",\n",
    "    yaxis_title=\"Pourcentage de décisions positives / match (%)\",\n",
    "    margin=dict(b=275),\n",
    "    updatemenus=[\n",
    "        dict(\n",
    "            type=\"buttons\",\n",
    "            direction=\"down\",\n",
    "            buttons=buttons,\n",
    "        )\n",
    "    ],\n",
    "    legend=dict(\n",
    "        xanchor=\"right\", \n",
    "        yanchor=\"bottom\" \n",
    "    )\n",
    ")\n",
    "\n",
    "fig.show()"
   ]
  },
  {
   "cell_type": "markdown",
   "metadata": {},
   "source": [
    "Les participants plus âgés obtiennent légèrement moins de décisions positives. Le graphique sur la différence d'âge montre que les chances de match augmentent lorsque cette différence est proche de zéro. Les participants donnent davantage de décisions favorables lorsque leur partenaire est plus jeune\n",
    "\n",
    "Le revenu médian des ménages semble avoir peu d'impact sur les décisions, bien qu'une légère corrélation semble apparaître entre une décision positive du partenaire et un revenu plus élevé de celui-ci par rapport au participant.\n",
    "\n",
    "La corrélation entre les centres d'intérêt exerce un léger effet positif sur la décision.\n",
    "\n",
    "Les individus présents sans objectif précis reçoivent légèrement plus de décisions positives de la part de leurs partenaires. \n",
    "Ceux qui sont habitués aux rendez-vous et aux sorties se révèlent nettement plus performants et davantage enclins à valider leurs partenaires, ce qui conduit à un nombre de matchs significativement plus élevé."
   ]
  },
  {
   "cell_type": "code",
   "execution_count": 24,
   "metadata": {},
   "outputs": [
    {
     "data": {
      "application/vnd.plotly.v1+json": {
       "config": {
        "plotlyServerURL": "https://plot.ly"
       },
       "data": [
        {
         "name": "",
         "text": [
          "3.9",
          "2.4"
         ],
         "textposition": "auto",
         "type": "bar",
         "x": [
          "Nombre de matchs attendus avant l'événement moins le nombre de matchs obtenus",
          "Nombre de matchs attendus après l'événement moins le nombre de matchs obtenus"
         ],
         "y": [
          3.8944444444444444,
          2.3636363636363638
         ]
        },
        {
         "name": "Avant l'évenement",
         "text": [
          "0.8",
          "1.1",
          "1.0",
          "1.3",
          "0.7"
         ],
         "textposition": "auto",
         "type": "bar",
         "visible": false,
         "x": [
          "Attractivité",
          "Sincérité",
          "Intelligence",
          "divertissant",
          "Ambition"
         ],
         "y": [
          0.8449290218596626,
          1.0568816527473675,
          0.9533078282684705,
          1.273576592057274,
          0.7412337600970951
         ]
        },
        {
         "name": "Pendant l'évenement",
         "text": [
          "1.0",
          "0.8",
          "0.8",
          "1.2",
          "0.6"
         ],
         "textposition": "auto",
         "type": "bar",
         "visible": false,
         "x": [
          "Attractivité",
          "Sincérité",
          "Intelligence",
          "divertissant",
          "Ambition"
         ],
         "y": [
          0.9691759785678046,
          0.8316562933335042,
          0.7575736770240573,
          1.2431009155187627,
          0.6147629655262328
         ]
        },
        {
         "name": "Un jour après l'évenement",
         "text": [
          "0.8",
          "0.7",
          "0.8",
          "1.1",
          "0.6"
         ],
         "textposition": "auto",
         "type": "bar",
         "visible": false,
         "x": [
          "Attractivité",
          "Sincérité",
          "Intelligence",
          "divertissant",
          "Ambition"
         ],
         "y": [
          0.8219486206740355,
          0.6934077315955841,
          0.7621801384695551,
          1.1482477567076173,
          0.6305429643146323
         ]
        },
        {
         "name": "Plusieurs semaines après l'évenement",
         "text": [
          "0.7",
          "0.7",
          "0.8",
          "1.0",
          "0.4"
         ],
         "textposition": "auto",
         "type": "bar",
         "visible": false,
         "x": [
          "Attractivité",
          "Sincérité",
          "Intelligence",
          "divertissant",
          "Ambition"
         ],
         "y": [
          0.7368212016891029,
          0.7355846415409283,
          0.7834682281938069,
          1.0293217310011242,
          0.4050471059574151
         ]
        },
        {
         "name": "Avant l'évenement",
         "text": [
          "0.8",
          "0.8",
          "0.9",
          "1.0",
          "0.8"
         ],
         "textposition": "auto",
         "type": "bar",
         "visible": false,
         "x": [
          "Attractivité",
          "Sincérité",
          "Intelligence",
          "divertissant",
          "Ambition"
         ],
         "y": [
          0.7858402588411241,
          0.7621989105435744,
          0.9031774378447807,
          0.9862786822811521,
          0.8351931210158468
         ]
        },
        {
         "name": "Un jour après l'évenement",
         "text": [
          "0.6",
          "0.3",
          "0.5",
          "0.8",
          "0.6"
         ],
         "textposition": "auto",
         "type": "bar",
         "visible": false,
         "x": [
          "Attractivité",
          "Sincérité",
          "Intelligence",
          "divertissant",
          "Ambition"
         ],
         "y": [
          0.6370272562282403,
          0.2570478828582013,
          0.48686837887535606,
          0.7905408869096824,
          0.5612898091037655
         ]
        },
        {
         "name": "Plusieurs semaines après l'évenement",
         "text": [
          "0.6",
          "0.4",
          "0.6",
          "0.6",
          "0.2"
         ],
         "textposition": "auto",
         "type": "bar",
         "visible": false,
         "x": [
          "Attractivité",
          "Sincérité",
          "Intelligence",
          "divertissant",
          "Ambition"
         ],
         "y": [
          0.5952816721370416,
          0.4190013035935093,
          0.6168507080373704,
          0.6181457535406086,
          0.24814587185844245
         ]
        }
       ],
       "layout": {
        "legend": {
         "xanchor": "right",
         "yanchor": "bottom"
        },
        "showlegend": false,
        "template": {
         "layout": {
          "colorway": [
           "#4B9AC7",
           "#4BE8E0",
           "#9DD4F3",
           "#97FBF6",
           "#2A7FAF",
           "#23B1AB",
           "#0E3449",
           "#015955"
          ]
         }
        },
        "title": {
         "text": "Matchs prévus vs matchs réellement obtenus"
        },
        "updatemenus": [
         {
          "buttons": [
           {
            "args": [
             {
              "visible": [
               true,
               false,
               false,
               false,
               false,
               false,
               false,
               false
              ]
             },
             {
              "showlegend": false,
              "title": "Matchs prévus vs matchs réellement obtenus",
              "xaxis": {
               "title": {
                "text": "Match"
               }
              }
             }
            ],
            "label": "Match",
            "method": "update"
           },
           {
            "args": [
             {
              "visible": [
               false,
               true,
               true,
               true,
               true,
               false,
               false,
               false
              ]
             },
             {
              "showlegend": true,
              "title": "Moyenne de la différence entre l'auto-évaluation et la moyenne des évaluations des autres",
              "xaxis": {
               "title": {
                "text": "Attribut"
               }
              }
             }
            ],
            "label": "Auto-évaluation ",
            "method": "update"
           },
           {
            "args": [
             {
              "visible": [
               false,
               false,
               false,
               false,
               false,
               true,
               true,
               true
              ]
             },
             {
              "showlegend": true,
              "title": "Moyenne de la différence entre la prédiction des évaluations externes et la moyenne des évaluations des autres.",
              "xaxis": {
               "title": {
                "text": "Attribut"
               }
              }
             }
            ],
            "label": "Prédiction des évaluations externes",
            "method": "update"
           }
          ],
          "direction": "down",
          "type": "buttons"
         }
        ],
        "yaxis": {
         "title": {
          "text": "Différence moyenne"
         }
        }
       }
      }
     },
     "metadata": {},
     "output_type": "display_data"
    }
   ],
   "source": [
    "# expnum: Out of the 20 people you will meet, how many do you expect will be interested in dating you ? signup/Time1\n",
    "# match_es : How many matches do you estimate you will get (a match occurs when you and yourpartner both check “Yes” next to decision) ?  just after speed date\n",
    "# match 1=yes, 0=no\n",
    "\n",
    "avg_dif_match_and_expected_before = (df_Grouped_By_iid[\"expnum\"] - df_Grouped_By_iid[\"match\"]).median()\n",
    "avg_dif_match_and_expected_after = (df_Grouped_By_iid[\"match_es\"] - df_Grouped_By_iid[\"match\"]).median()\n",
    "\n",
    "\n",
    "\n",
    "# 3_ How do you think you measure up ? \n",
    "# 5_ And finally, how do you think others perceive you ? \n",
    "# _o rating by partner the night of the event, for all 6 attributes\n",
    "# _1 signup/Time 1 : Survey filled out by students that are interested in participating in order to register forthe event.\n",
    "# _s Half way through meeting all potential dates during the night of the event on theirscorecard\n",
    "# _2 followup/Time2 : Survey is filled out the day after participating in the event. Subjects must have submitted this in order to be sent their matches.\n",
    "# _3 followup2/ Time3 : Subjects filled out 3-4 weeks after they had been sent their matches\n",
    "\n",
    "y_values_3_1 = []\n",
    "y_values_3_s = []\n",
    "y_values_3_2 = []\n",
    "y_values_3_3 = []\n",
    "\n",
    "y_values_5_1 = []\n",
    "y_values_5_2 = []\n",
    "y_values_5_3 = []\n",
    "\n",
    "for col_name in attributes[:-1] :\n",
    "    y_values_3_1.append((df_Grouped_By_iid_100p_wave[f\"{col_name}3_1\"] - df_Grouped_By_iid_100p_wave[f\"{col_name}_o\"]).mean())\n",
    "    y_values_3_s.append((df_Grouped_By_iid_100p_wave[f\"{col_name}3_s\"] - df_Grouped_By_iid_100p_wave[f\"{col_name}_o\"]).mean())\n",
    "    y_values_3_2.append((df_Grouped_By_iid_100p_wave[f\"{col_name}3_2\"] - df_Grouped_By_iid_100p_wave[f\"{col_name}_o\"]).mean())\n",
    "    y_values_3_3.append((df_Grouped_By_iid_100p_wave[f\"{col_name}3_3\"] - df_Grouped_By_iid_100p_wave[f\"{col_name}_o\"]).mean())\n",
    "    \n",
    "    y_values_5_1.append((df_Grouped_By_iid_100p_wave[f\"{col_name}5_1\"] - df_Grouped_By_iid_100p_wave[f\"{col_name}_o\"]).mean())\n",
    "    y_values_5_2.append((df_Grouped_By_iid_100p_wave[f\"{col_name}5_2\"] - df_Grouped_By_iid_100p_wave[f\"{col_name}_o\"]).mean())\n",
    "    y_values_5_3.append((df_Grouped_By_iid_100p_wave[f\"{col_name}5_3\"] - df_Grouped_By_iid_100p_wave[f\"{col_name}_o\"]).mean())\n",
    "\n",
    "\n",
    "fig = go.Figure()\n",
    "fig.add_trace(go.Bar(\n",
    "    x=[\"Nombre de matchs attendus avant l'événement moins le nombre de matchs obtenus\", \"Nombre de matchs attendus après l'événement moins le nombre de matchs obtenus\"],\n",
    "    y=[avg_dif_match_and_expected_before, avg_dif_match_and_expected_after],\n",
    "    text=[f'{avg_dif_match_and_expected_before:.1f}', f'{avg_dif_match_and_expected_after:.1f}'],\n",
    "    name=\"\",\n",
    "    textposition='auto'\n",
    "))\n",
    "\n",
    "fig.add_trace(go.Bar(\n",
    "    x=attribute_names[:-1],\n",
    "    y=y_values_3_1,\n",
    "    text=[str(round(num,1)) for num in y_values_3_1],\n",
    "    textposition='auto',\n",
    "    name=\"Avant l'évenement\",\n",
    "    visible= False\n",
    "))\n",
    "fig.add_trace(go.Bar(\n",
    "    x=attribute_names[:-1],\n",
    "    y=y_values_3_s,\n",
    "    text=[str(round(num,1)) for num in y_values_3_s],\n",
    "    textposition='auto',\n",
    "    name=\"Pendant l'évenement\",\n",
    "    visible= False\n",
    "))\n",
    "fig.add_trace(go.Bar(\n",
    "    x=attribute_names[:-1],\n",
    "    y=y_values_3_2,\n",
    "    text=[str(round(num,1)) for num in y_values_3_2],\n",
    "    textposition='auto',\n",
    "    name=\"Un jour après l'évenement\",\n",
    "    visible= False\n",
    "))\n",
    "fig.add_trace(go.Bar(\n",
    "    x=attribute_names[:-1],\n",
    "    y=y_values_3_3,\n",
    "    text=[str(round(num,1)) for num in y_values_3_3],\n",
    "    textposition='auto',\n",
    "    name=\"Plusieurs semaines après l'évenement\",\n",
    "    visible= False\n",
    "))\n",
    "\n",
    "fig.add_trace(go.Bar(\n",
    "    x=attribute_names[:-1],\n",
    "    y=y_values_5_1,\n",
    "    text=[str(round(num,1)) for num in y_values_5_1],\n",
    "    textposition='auto',\n",
    "    name=\"Avant l'évenement\",\n",
    "    visible= False\n",
    "))\n",
    "fig.add_trace(go.Bar(\n",
    "    x=attribute_names[:-1],\n",
    "    y=y_values_5_2,\n",
    "    text=[str(round(num,1)) for num in y_values_5_2],\n",
    "    textposition='auto',\n",
    "    name=\"Un jour après l'évenement\",\n",
    "    visible= False\n",
    "))\n",
    "fig.add_trace(go.Bar(\n",
    "    x=attribute_names[:-1],\n",
    "    y=y_values_5_3,\n",
    "    text=[str(round(num,1)) for num in y_values_5_3],\n",
    "    textposition='auto',\n",
    "    name=\"Plusieurs semaines après l'évenement\",\n",
    "    visible= False\n",
    "))\n",
    "\n",
    "\n",
    "fig.update_layout(\n",
    "    showlegend=False,\n",
    "    title='Matchs prévus vs matchs réellement obtenus',\n",
    "    yaxis_title='Différence moyenne',\n",
    "    updatemenus=[\n",
    "        dict(\n",
    "            type=\"buttons\",\n",
    "            direction=\"down\",\n",
    "            buttons=[{\n",
    "                \"args\": [\n",
    "                    {\"visible\": [True] + [False for i in range(7)]},\n",
    "                    {\"title\": \"Matchs prévus vs matchs réellement obtenus\",\n",
    "                    \"xaxis\": {\"title\": {\"text\": \"Match\"}},\n",
    "                    \"showlegend\": False}\n",
    "                ],\n",
    "                \"label\": \"Match\",\n",
    "                \"method\": \"update\"\n",
    "            },{\n",
    "                \"args\": [\n",
    "                    {\"visible\": [False] + [True if i < 4 else False for i in range(7)]},\n",
    "                    {\"title\": \"Moyenne de la différence entre l'auto-évaluation et la moyenne des évaluations des autres\",\n",
    "                    \"xaxis\": {\"title\": {\"text\": \"Attribut\"}},\n",
    "                    \"showlegend\": True}\n",
    "                ],\n",
    "                \"label\": \"Auto-évaluation \",\n",
    "                \"method\": \"update\"\n",
    "            },{\n",
    "                \"args\": [\n",
    "                    {\"visible\": [False] + [True if i > 3 else False for i in range(7)]},\n",
    "                    {\"title\": \"Moyenne de la différence entre la prédiction des évaluations externes et la moyenne des évaluations des autres.\",\n",
    "                    \"xaxis\": {\"title\": {\"text\": \"Attribut\"}},\n",
    "                    \"showlegend\": True}\n",
    "                ],\n",
    "                \"label\": \"Prédiction des évaluations externes\",\n",
    "                \"method\": \"update\"\n",
    "            }\n",
    "            \n",
    "            \n",
    "            ],\n",
    "        )\n",
    "    ],\n",
    "    legend=dict(\n",
    "        xanchor=\"right\",\n",
    "        yanchor=\"bottom\" \n",
    "    )\n",
    "\n",
    ")\n",
    "\n",
    "\n",
    "fig.show()"
   ]
  },
  {
   "cell_type": "markdown",
   "metadata": {},
   "source": [
    "En comparant les auto-évaluations avec les évaluations des partenaires, il apparaît que les individus ont une tendance à surestimer leur propre valeur perçue. \n",
    "En moyenne, les participants surestiment de 3,9 le nombre de matchs qu'ils pensent obtenir, une surestimation qui diminue à 2,4 après le speed dating. Ils évaluent leurs propres caractéristiques personnelles à environ 1 point de plus que la moyenne des notes attribuées par leurs partenaires. Cette surestimation s'atténue après l'événement et continue de décroître au fil des semaines."
   ]
  },
  {
   "cell_type": "code",
   "execution_count": 70,
   "metadata": {},
   "outputs": [
    {
     "data": {
      "application/vnd.plotly.v1+json": {
       "config": {
        "plotlyServerURL": "https://plot.ly"
       },
       "data": [
        {
         "name": "Decision Rate",
         "text": [
          50,
          41.2,
          45
         ],
         "type": "bar",
         "x": [
          "1er date",
          "Date intermédiaire",
          "Dernier date"
         ],
         "xaxis": "x",
         "y": [
          50,
          41.22199592668024,
          45.033112582781456
         ],
         "yaxis": "y"
        },
        {
         "name": "Match Rate",
         "text": [
          23.1,
          15.7,
          21.2
         ],
         "type": "bar",
         "x": [
          "1er date",
          "Date intermédiaire",
          "Dernier date"
         ],
         "xaxis": "x2",
         "y": [
          23.09090909090909,
          15.709436524100475,
          21.192052980132452
         ],
         "yaxis": "y2"
        }
       ],
       "layout": {
        "annotations": [
         {
          "font": {
           "size": 16
          },
          "showarrow": false,
          "text": "Décision positive",
          "x": 0.225,
          "xanchor": "center",
          "xref": "paper",
          "y": 1,
          "yanchor": "bottom",
          "yref": "paper"
         },
         {
          "font": {
           "size": 16
          },
          "showarrow": false,
          "text": "Match",
          "x": 0.775,
          "xanchor": "center",
          "xref": "paper",
          "y": 1,
          "yanchor": "bottom",
          "yref": "paper"
         }
        ],
        "showlegend": false,
        "template": {
         "layout": {
          "colorway": [
           "#4B9AC7",
           "#4BE8E0",
           "#9DD4F3",
           "#97FBF6",
           "#2A7FAF",
           "#23B1AB",
           "#0E3449",
           "#015955"
          ]
         }
        },
        "title": {
         "text": "Comparaison du taux de match et décision positive en fonction de la position lors du speed dating."
        },
        "xaxis": {
         "anchor": "y",
         "domain": [
          0,
          0.45
         ]
        },
        "xaxis2": {
         "anchor": "y2",
         "domain": [
          0.55,
          1
         ]
        },
        "yaxis": {
         "anchor": "x",
         "domain": [
          0,
          1
         ],
         "title": {
          "text": "Taux (%)"
         }
        },
        "yaxis2": {
         "anchor": "x2",
         "domain": [
          0,
          1
         ],
         "title": {
          "text": "Taux (%)"
         }
        }
       }
      }
     },
     "metadata": {},
     "output_type": "display_data"
    }
   ],
   "source": [
    "# order: the number of date that night when met partner\n",
    "# Waves have varying numbers of participants, resulting in different maximum \"order\".\n",
    "\n",
    "\n",
    "# Filter first and last dates\n",
    "first_last = df_processed[(df_processed['order'] == 1) | (df_processed['order'] == df_processed.groupby('wave')['order'].transform('max'))].copy()\n",
    "\n",
    "# Add a column indicating if it's a first or last date\n",
    "first_last['type'] = first_last['order'].apply(lambda x: '1er date' if x == 1 else 'Dernier date')\n",
    "\n",
    "\n",
    "# Filter the intermediate dates (neither first nor last)\n",
    "others = df_processed[\n",
    "    (df_processed['order'] != 1) & \n",
    "    (df_processed['order'] != df_processed.groupby('wave')['order'].transform('max'))\n",
    "].copy()\n",
    "\n",
    "others['type'] = \"Date intermédiaire\"\n",
    "\n",
    "# Combine both datasets\n",
    "all_dates = pd.concat([first_last, others], ignore_index=True)\n",
    "\n",
    "\n",
    "# Analyze the decision (dec == 1 means yes for a second date)\n",
    "grouped_decision = all_dates.groupby('type').agg({'dec': 'mean'}).reset_index() \n",
    "\n",
    "# Analyze the match rate\n",
    "grouped_match = all_dates.groupby('type').agg({'match': 'mean'}).reset_index() \n",
    "\n",
    "# Create subplots (1 row, 2 columns)\n",
    "fig = make_subplots(rows=1, cols=2, subplot_titles=('Décision positive', 'Match'))\n",
    "\n",
    "# Add the first subplot (second date decision rate)\n",
    "fig.add_trace(go.Bar(\n",
    "    x=grouped_decision['type'],\n",
    "    y=grouped_decision['dec'] * 100,\n",
    "    text=(grouped_decision['dec'] * 100).round(1),\n",
    "    name='Decision Rate',\n",
    "), row=1, col=1)\n",
    "\n",
    "# Add the second subplot (match rate)\n",
    "fig.add_trace(go.Bar(\n",
    "    x=grouped_match['type'],\n",
    "    y=grouped_match['match'] * 100,\n",
    "    text= (grouped_match['match'] * 100).round(1),\n",
    "    name='Match Rate',\n",
    "), row=1, col=2)\n",
    "# Update layout\n",
    "fig.update_layout(\n",
    "    title='Comparaison du taux de match et décision positive en fonction de la position lors du speed dating.',\n",
    "    showlegend=False,  # Hide the legend as the names are similar\n",
    ")\n",
    "\n",
    "# Add y-axis labels\n",
    "fig.update_yaxes(title_text=\"Taux (%)\", row=1, col=1)\n",
    "fig.update_yaxes(title_text=\"Taux (%)\", row=1, col=2)\n",
    "\n",
    "\n",
    "fig.show()\n"
   ]
  },
  {
   "cell_type": "markdown",
   "metadata": {},
   "source": [
    "Pour obtenir un deuxième rendez-vous, il est légèrement avantageux d'être le premier speed date de la soirée plutôt que le dernier. Quoi qu'il en soit, tant le premier que le dernier speed date affichent globalement de meilleures chances de succès que ceux occupant des positions intermédiaires."
   ]
  }
 ],
 "metadata": {
  "kernelspec": {
   "display_name": "base",
   "language": "python",
   "name": "python3"
  },
  "language_info": {
   "codemirror_mode": {
    "name": "ipython",
    "version": 3
   },
   "file_extension": ".py",
   "mimetype": "text/x-python",
   "name": "python",
   "nbconvert_exporter": "python",
   "pygments_lexer": "ipython3",
   "version": "3.12.4"
  }
 },
 "nbformat": 4,
 "nbformat_minor": 4
}
